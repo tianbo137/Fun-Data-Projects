{
 "cells": [
  {
   "cell_type": "markdown",
   "metadata": {},
   "source": [
    "# Data Concatenation using Datalab and BigQuery Magic Commands\n",
    "In this part, we use BigQuery magic command in Datalab notebook to concatenate training and testing data sets provided by [Kaggle's WSDM - KKBox's Churn Prediction Challenge](https://www.kaggle.com/c/kkbox-churn-prediction-challenge/data).\n",
    "\n",
    "To use Datalab jupyter notebook, we followed the directions given [here](https://cloud.google.com/datalab/docs/quickstart). In particular, we created\n",
    "* a virtual machine (VM), also called instance,  hosted on Google's infrastructure\n",
    "* one bucket in [Google Cloud Storage](https://cloud.google.com/storage/?hl=eng) and another in [Google BigQuery](https://cloud.google.com/bigquery/?hl=eng)), where we stored our data\n",
    "\n",
    "In the following, we use the BigQuery magic command due to its ease to use rather than importing the BigQuery lib. For those not familiar with these, we refer people to the reference listed below for more help."
   ]
  },
  {
   "cell_type": "markdown",
   "metadata": {},
   "source": [
    "### 1. Check the tables "
   ]
  },
  {
   "cell_type": "code",
   "execution_count": 1,
   "metadata": {},
   "outputs": [
    {
     "data": {
      "text/html": [
       "<ul><li>dark-garden-296106.kkbox_bucket.members</li><li>dark-garden-296106.kkbox_bucket.submission</li><li>dark-garden-296106.kkbox_bucket.submission2</li><li>dark-garden-296106.kkbox_bucket.train</li><li>dark-garden-296106.kkbox_bucket.transaction</li><li>dark-garden-296106.kkbox_bucket.transaction2</li><li>dark-garden-296106.kkbox_bucket.user_label</li><li>dark-garden-296106.kkbox_bucket.user_label2</li><li>dark-garden-296106.kkbox_bucket.user_logs</li><li>dark-garden-296106.kkbox_bucket.user_logs2</li></ul>"
      ],
      "text/plain": [
       "<IPython.core.display.HTML object>"
      ]
     },
     "execution_count": 1,
     "metadata": {},
     "output_type": "execute_result"
    }
   ],
   "source": [
    "# View the list of tables of our dataset\n",
    "%bq tables list"
   ]
  },
  {
   "cell_type": "markdown",
   "metadata": {},
   "source": [
    "### 2. User_logs Concatenation"
   ]
  },
  {
   "cell_type": "code",
   "execution_count": 2,
   "metadata": {},
   "outputs": [
    {
     "data": {
      "text/html": [
       "\n",
       "    <div class=\"bqtv\" id=\"1_161150880344\"><table><tr><th>msno</th><th>date</th><th>num_25</th><th>num_50</th><th>num_75</th><th>num_985</th><th>num_100</th><th>num_unq</th><th>total_secs</th></tr><tr><td>8nSyuVdv8qR4aHr1hUx1FXoIuxpZluW+kR/d0ounuYA=</td><td>20160512</td><td>24</td><td>2</td><td>1</td><td>1</td><td>53</td><td>61</td><td>15019.365</td></tr><tr><td>d2GtIMHD45Ri5/Ksa86X4FYWCZMM3fZ4WRDKjbhp15A=</td><td>20160205</td><td>81</td><td>2</td><td>4</td><td>3</td><td>34</td><td>74</td><td>9600.676</td></tr><tr><td>d2GtIMHD45Ri5/Ksa86X4FYWCZMM3fZ4WRDKjbhp15A=</td><td>20161124</td><td>37</td><td>4</td><td>4</td><td>2</td><td>48</td><td>83</td><td>12778.431</td></tr><tr><td>d2GtIMHD45Ri5/Ksa86X4FYWCZMM3fZ4WRDKjbhp15A=</td><td>20170114</td><td>113</td><td>22</td><td>8</td><td>3</td><td>40</td><td>163</td><td>14347.198</td></tr><tr><td>kb3qHtlz+K4Ume8TF4FQi9xwrTZqzFFvBDZsdYvyQ0A=</td><td>20161217</td><td>32</td><td>1</td><td>0</td><td>1</td><td>30</td><td>58</td><td>7391.719</td></tr><tr><td>B/eZk3P+A98+vport4EL6KBRhYiioS+F1uVJSGmAUGw=</td><td>20150720</td><td>22</td><td>2</td><td>0</td><td>2</td><td>38</td><td>52</td><td>10062.741</td></tr><tr><td>ysLUp9Ebqx3RrCNmZAOSmyW7kDZQafvyg7+Ge6lbG3Y=</td><td>20150717</td><td>38</td><td>6</td><td>5</td><td>4</td><td>66</td><td>87</td><td>20265.215</td></tr><tr><td>ysLUp9Ebqx3RrCNmZAOSmyW7kDZQafvyg7+Ge6lbG3Y=</td><td>20160318</td><td>36</td><td>4</td><td>2</td><td>4</td><td>97</td><td>61</td><td>24174.545</td></tr><tr><td>65MC0qTNLb/tG6fPv0IN7AzLqma4IkDHe1SEB8TedA8=</td><td>20150411</td><td>42</td><td>24</td><td>13</td><td>6</td><td>85</td><td>131</td><td>26109.762</td></tr><tr><td>aDyAkp8ZPYJUAVISQZ9oe1/2Ub1iDbq1Z9B6lBaTGRk=</td><td>20150107</td><td>23</td><td>12</td><td>3</td><td>7</td><td>60</td><td>90</td><td>19544.564</td></tr><tr><td>hXBw2UrphMglzTCevQhiO3MxweaxWheKbUy63y9L1KU=</td><td>20160725</td><td>25</td><td>8</td><td>2</td><td>6</td><td>27</td><td>52</td><td>8100.914</td></tr><tr><td>SaDQjFXhE3OTKa4nphNdFUTGXHz4CnvamDimkIlu+iE=</td><td>20151230</td><td>24</td><td>2</td><td>2</td><td>2</td><td>141</td><td>148</td><td>37411.15</td></tr><tr><td>SaDQjFXhE3OTKa4nphNdFUTGXHz4CnvamDimkIlu+iE=</td><td>20160222</td><td>31</td><td>3</td><td>4</td><td>0</td><td>97</td><td>125</td><td>26303.642</td></tr><tr><td>SaDQjFXhE3OTKa4nphNdFUTGXHz4CnvamDimkIlu+iE=</td><td>20160418</td><td>43</td><td>5</td><td>1</td><td>2</td><td>63</td><td>101</td><td>17315.789</td></tr><tr><td>3UVpd9pHoKk8oMIIrTqKaoOasIH2iQFLboGZJvAzwKY=</td><td>20160408</td><td>25</td><td>4</td><td>3</td><td>8</td><td>35</td><td>65</td><td>12209.435</td></tr><tr><td>xo1owQF/ASAxQQytAwHxoWBdQTDAw9123LZ/mEG1SG4=</td><td>20170215</td><td>22</td><td>2</td><td>4</td><td>1</td><td>38</td><td>52</td><td>11012.843</td></tr><tr><td>NhQeRGDNlefA7sIPQOWdZtToftl1sG6fyVfwccXwGdE=</td><td>20150704</td><td>45</td><td>15</td><td>4</td><td>5</td><td>18</td><td>72</td><td>7911.527</td></tr><tr><td>yOphCa1K43qe9z2shmdjutvB6gRfpbdrifCh1U7Vz/M=</td><td>20150509</td><td>40</td><td>1</td><td>0</td><td>1</td><td>35</td><td>55</td><td>9400.082</td></tr><tr><td>yOphCa1K43qe9z2shmdjutvB6gRfpbdrifCh1U7Vz/M=</td><td>20151025</td><td>44</td><td>1</td><td>0</td><td>3</td><td>58</td><td>78</td><td>13128.114</td></tr><tr><td>yOphCa1K43qe9z2shmdjutvB6gRfpbdrifCh1U7Vz/M=</td><td>20151217</td><td>47</td><td>1</td><td>0</td><td>2</td><td>71</td><td>107</td><td>18339.627</td></tr><tr><td>7iriLc53KWyBF37EDWD/B11T84G6jt6B1c5PH8YUnh4=</td><td>20150308</td><td>25</td><td>3</td><td>2</td><td>4</td><td>156</td><td>172</td><td>36691.133</td></tr><tr><td>7iriLc53KWyBF37EDWD/B11T84G6jt6B1c5PH8YUnh4=</td><td>20151130</td><td>63</td><td>19</td><td>13</td><td>11</td><td>175</td><td>152</td><td>47000.279</td></tr><tr><td>7iriLc53KWyBF37EDWD/B11T84G6jt6B1c5PH8YUnh4=</td><td>20160119</td><td>64</td><td>14</td><td>7</td><td>5</td><td>44</td><td>104</td><td>14209.987</td></tr><tr><td>Kc9QWnnfaRtAy6n+LhHckLMHbXYRm0pr/BKFhCM+f58=</td><td>20150208</td><td>30</td><td>7</td><td>4</td><td>4</td><td>35</td><td>59</td><td>11942.761</td></tr><tr><td>Kc9QWnnfaRtAy6n+LhHckLMHbXYRm0pr/BKFhCM+f58=</td><td>20170128</td><td>101</td><td>12</td><td>9</td><td>3</td><td>19</td><td>94</td><td>9082.138</td></tr></table></div>\n",
       "    <br />(rows: 392106543, dark-garden-296106.kkbox_bucket.user_logs)<br />\n",
       "    <script src=\"/static/components/requirejs/require.js\"></script>\n",
       "    <script>\n",
       "      require.config({\n",
       "        paths: {\n",
       "          base: '/static/base',\n",
       "          d3: '//cdnjs.cloudflare.com/ajax/libs/d3/3.4.13/d3',\n",
       "          plotly: 'https://cdn.plot.ly/plotly-1.5.1.min.js?noext',\n",
       "          jquery: '//ajax.googleapis.com/ajax/libs/jquery/2.0.0/jquery.min'\n",
       "        },\n",
       "        map: {\n",
       "          '*': {\n",
       "            datalab: 'nbextensions/gcpdatalab'\n",
       "          }\n",
       "        },\n",
       "        shim: {\n",
       "          plotly: {\n",
       "            deps: ['d3', 'jquery'],\n",
       "            exports: 'plotly'\n",
       "          }\n",
       "        }\n",
       "      });\n",
       "\n",
       "      require(['datalab/charting', 'datalab/element!1_161150880344', 'base/js/events',\n",
       "          'datalab/style!/nbextensions/gcpdatalab/charting.css'],\n",
       "        function(charts, dom, events) {\n",
       "          charts.render('gcharts', dom, events, 'paged_table', [], {\"rows\": [{\"c\": [{\"v\": \"8nSyuVdv8qR4aHr1hUx1FXoIuxpZluW+kR/d0ounuYA=\"}, {\"v\": 20160512}, {\"v\": 24}, {\"v\": 2}, {\"v\": 1}, {\"v\": 1}, {\"v\": 53}, {\"v\": 61}, {\"v\": 15019.365}]}, {\"c\": [{\"v\": \"d2GtIMHD45Ri5/Ksa86X4FYWCZMM3fZ4WRDKjbhp15A=\"}, {\"v\": 20160205}, {\"v\": 81}, {\"v\": 2}, {\"v\": 4}, {\"v\": 3}, {\"v\": 34}, {\"v\": 74}, {\"v\": 9600.676}]}, {\"c\": [{\"v\": \"d2GtIMHD45Ri5/Ksa86X4FYWCZMM3fZ4WRDKjbhp15A=\"}, {\"v\": 20161124}, {\"v\": 37}, {\"v\": 4}, {\"v\": 4}, {\"v\": 2}, {\"v\": 48}, {\"v\": 83}, {\"v\": 12778.431}]}, {\"c\": [{\"v\": \"d2GtIMHD45Ri5/Ksa86X4FYWCZMM3fZ4WRDKjbhp15A=\"}, {\"v\": 20170114}, {\"v\": 113}, {\"v\": 22}, {\"v\": 8}, {\"v\": 3}, {\"v\": 40}, {\"v\": 163}, {\"v\": 14347.198}]}, {\"c\": [{\"v\": \"kb3qHtlz+K4Ume8TF4FQi9xwrTZqzFFvBDZsdYvyQ0A=\"}, {\"v\": 20161217}, {\"v\": 32}, {\"v\": 1}, {\"v\": 0}, {\"v\": 1}, {\"v\": 30}, {\"v\": 58}, {\"v\": 7391.719}]}, {\"c\": [{\"v\": \"B/eZk3P+A98+vport4EL6KBRhYiioS+F1uVJSGmAUGw=\"}, {\"v\": 20150720}, {\"v\": 22}, {\"v\": 2}, {\"v\": 0}, {\"v\": 2}, {\"v\": 38}, {\"v\": 52}, {\"v\": 10062.741}]}, {\"c\": [{\"v\": \"ysLUp9Ebqx3RrCNmZAOSmyW7kDZQafvyg7+Ge6lbG3Y=\"}, {\"v\": 20150717}, {\"v\": 38}, {\"v\": 6}, {\"v\": 5}, {\"v\": 4}, {\"v\": 66}, {\"v\": 87}, {\"v\": 20265.215}]}, {\"c\": [{\"v\": \"ysLUp9Ebqx3RrCNmZAOSmyW7kDZQafvyg7+Ge6lbG3Y=\"}, {\"v\": 20160318}, {\"v\": 36}, {\"v\": 4}, {\"v\": 2}, {\"v\": 4}, {\"v\": 97}, {\"v\": 61}, {\"v\": 24174.545}]}, {\"c\": [{\"v\": \"65MC0qTNLb/tG6fPv0IN7AzLqma4IkDHe1SEB8TedA8=\"}, {\"v\": 20150411}, {\"v\": 42}, {\"v\": 24}, {\"v\": 13}, {\"v\": 6}, {\"v\": 85}, {\"v\": 131}, {\"v\": 26109.762}]}, {\"c\": [{\"v\": \"aDyAkp8ZPYJUAVISQZ9oe1/2Ub1iDbq1Z9B6lBaTGRk=\"}, {\"v\": 20150107}, {\"v\": 23}, {\"v\": 12}, {\"v\": 3}, {\"v\": 7}, {\"v\": 60}, {\"v\": 90}, {\"v\": 19544.564}]}, {\"c\": [{\"v\": \"hXBw2UrphMglzTCevQhiO3MxweaxWheKbUy63y9L1KU=\"}, {\"v\": 20160725}, {\"v\": 25}, {\"v\": 8}, {\"v\": 2}, {\"v\": 6}, {\"v\": 27}, {\"v\": 52}, {\"v\": 8100.914}]}, {\"c\": [{\"v\": \"SaDQjFXhE3OTKa4nphNdFUTGXHz4CnvamDimkIlu+iE=\"}, {\"v\": 20151230}, {\"v\": 24}, {\"v\": 2}, {\"v\": 2}, {\"v\": 2}, {\"v\": 141}, {\"v\": 148}, {\"v\": 37411.15}]}, {\"c\": [{\"v\": \"SaDQjFXhE3OTKa4nphNdFUTGXHz4CnvamDimkIlu+iE=\"}, {\"v\": 20160222}, {\"v\": 31}, {\"v\": 3}, {\"v\": 4}, {\"v\": 0}, {\"v\": 97}, {\"v\": 125}, {\"v\": 26303.642}]}, {\"c\": [{\"v\": \"SaDQjFXhE3OTKa4nphNdFUTGXHz4CnvamDimkIlu+iE=\"}, {\"v\": 20160418}, {\"v\": 43}, {\"v\": 5}, {\"v\": 1}, {\"v\": 2}, {\"v\": 63}, {\"v\": 101}, {\"v\": 17315.789}]}, {\"c\": [{\"v\": \"3UVpd9pHoKk8oMIIrTqKaoOasIH2iQFLboGZJvAzwKY=\"}, {\"v\": 20160408}, {\"v\": 25}, {\"v\": 4}, {\"v\": 3}, {\"v\": 8}, {\"v\": 35}, {\"v\": 65}, {\"v\": 12209.435}]}, {\"c\": [{\"v\": \"xo1owQF/ASAxQQytAwHxoWBdQTDAw9123LZ/mEG1SG4=\"}, {\"v\": 20170215}, {\"v\": 22}, {\"v\": 2}, {\"v\": 4}, {\"v\": 1}, {\"v\": 38}, {\"v\": 52}, {\"v\": 11012.843}]}, {\"c\": [{\"v\": \"NhQeRGDNlefA7sIPQOWdZtToftl1sG6fyVfwccXwGdE=\"}, {\"v\": 20150704}, {\"v\": 45}, {\"v\": 15}, {\"v\": 4}, {\"v\": 5}, {\"v\": 18}, {\"v\": 72}, {\"v\": 7911.527}]}, {\"c\": [{\"v\": \"yOphCa1K43qe9z2shmdjutvB6gRfpbdrifCh1U7Vz/M=\"}, {\"v\": 20150509}, {\"v\": 40}, {\"v\": 1}, {\"v\": 0}, {\"v\": 1}, {\"v\": 35}, {\"v\": 55}, {\"v\": 9400.082}]}, {\"c\": [{\"v\": \"yOphCa1K43qe9z2shmdjutvB6gRfpbdrifCh1U7Vz/M=\"}, {\"v\": 20151025}, {\"v\": 44}, {\"v\": 1}, {\"v\": 0}, {\"v\": 3}, {\"v\": 58}, {\"v\": 78}, {\"v\": 13128.114}]}, {\"c\": [{\"v\": \"yOphCa1K43qe9z2shmdjutvB6gRfpbdrifCh1U7Vz/M=\"}, {\"v\": 20151217}, {\"v\": 47}, {\"v\": 1}, {\"v\": 0}, {\"v\": 2}, {\"v\": 71}, {\"v\": 107}, {\"v\": 18339.627}]}, {\"c\": [{\"v\": \"7iriLc53KWyBF37EDWD/B11T84G6jt6B1c5PH8YUnh4=\"}, {\"v\": 20150308}, {\"v\": 25}, {\"v\": 3}, {\"v\": 2}, {\"v\": 4}, {\"v\": 156}, {\"v\": 172}, {\"v\": 36691.133}]}, {\"c\": [{\"v\": \"7iriLc53KWyBF37EDWD/B11T84G6jt6B1c5PH8YUnh4=\"}, {\"v\": 20151130}, {\"v\": 63}, {\"v\": 19}, {\"v\": 13}, {\"v\": 11}, {\"v\": 175}, {\"v\": 152}, {\"v\": 47000.279}]}, {\"c\": [{\"v\": \"7iriLc53KWyBF37EDWD/B11T84G6jt6B1c5PH8YUnh4=\"}, {\"v\": 20160119}, {\"v\": 64}, {\"v\": 14}, {\"v\": 7}, {\"v\": 5}, {\"v\": 44}, {\"v\": 104}, {\"v\": 14209.987}]}, {\"c\": [{\"v\": \"Kc9QWnnfaRtAy6n+LhHckLMHbXYRm0pr/BKFhCM+f58=\"}, {\"v\": 20150208}, {\"v\": 30}, {\"v\": 7}, {\"v\": 4}, {\"v\": 4}, {\"v\": 35}, {\"v\": 59}, {\"v\": 11942.761}]}, {\"c\": [{\"v\": \"Kc9QWnnfaRtAy6n+LhHckLMHbXYRm0pr/BKFhCM+f58=\"}, {\"v\": 20170128}, {\"v\": 101}, {\"v\": 12}, {\"v\": 9}, {\"v\": 3}, {\"v\": 19}, {\"v\": 94}, {\"v\": 9082.138}]}], \"cols\": [{\"type\": \"string\", \"label\": \"msno\", \"id\": \"msno\"}, {\"type\": \"number\", \"label\": \"date\", \"id\": \"date\"}, {\"type\": \"number\", \"label\": \"num_25\", \"id\": \"num_25\"}, {\"type\": \"number\", \"label\": \"num_50\", \"id\": \"num_50\"}, {\"type\": \"number\", \"label\": \"num_75\", \"id\": \"num_75\"}, {\"type\": \"number\", \"label\": \"num_985\", \"id\": \"num_985\"}, {\"type\": \"number\", \"label\": \"num_100\", \"id\": \"num_100\"}, {\"type\": \"number\", \"label\": \"num_unq\", \"id\": \"num_unq\"}, {\"type\": \"number\", \"label\": \"total_secs\", \"id\": \"total_secs\"}]},\n",
       "            {\n",
       "              pageSize: 25,\n",
       "              cssClassNames:  {\n",
       "                tableRow: 'gchart-table-row',\n",
       "                headerRow: 'gchart-table-headerrow',\n",
       "                oddTableRow: 'gchart-table-oddrow',\n",
       "                selectedTableRow: 'gchart-table-selectedrow',\n",
       "                hoverTableRow: 'gchart-table-hoverrow',\n",
       "                tableCell: 'gchart-table-cell',\n",
       "                headerCell: 'gchart-table-headercell',\n",
       "                rowNumberCell: 'gchart-table-rownumcell'\n",
       "              }\n",
       "            },\n",
       "            {source_index: 0, fields: 'msno,date,num_25,num_50,num_75,num_985,num_100,num_unq,total_secs'},\n",
       "            0,\n",
       "            392106543);\n",
       "        }\n",
       "      );\n",
       "    </script>\n",
       "  "
      ],
      "text/plain": [
       "BigQuery Table - name: dark-garden-296106.kkbox_bucket.user_logs"
      ]
     },
     "execution_count": 2,
     "metadata": {},
     "output_type": "execute_result"
    }
   ],
   "source": [
    "%bq tables view -n dark-garden-296106.kkbox_bucket.user_logs"
   ]
  },
  {
   "cell_type": "markdown",
   "metadata": {},
   "source": [
    "Insert using SQL DML(Data Manipulation Language) Syntax, which includes:\n",
    "* INSERT – is used to insert data into a table.\n",
    "* UPDATE – is used to update existing data within a table.\n",
    "* DELETE – is used to delete records from a database table."
   ]
  },
  {
   "cell_type": "code",
   "execution_count": 3,
   "metadata": {},
   "outputs": [],
   "source": [
    "%bq query -n Concat\n",
    "INSERT kkbox_bucket.user_logs (msno, date, num_25, num_50, num_75,num_985, num_100, num_unq, total_secs)\n",
    "SELECT msno, date, num_25, num_50, num_75,num_985, num_100, num_unq, total_secs\n",
    "FROM `dark-garden-296106.kkbox_bucket.user_logs2`"
   ]
  },
  {
   "cell_type": "markdown",
   "metadata": {},
   "source": [
    "Perform a dryrun, which is FREE on GCP!"
   ]
  },
  {
   "cell_type": "code",
   "execution_count": 4,
   "metadata": {},
   "outputs": [
    {
     "data": {
      "text/html": [
       "\n",
       "    <p>Dry run information:     2GB to process, results not cached</p>\n",
       "    "
      ],
      "text/plain": [
       "<google.datalab.bigquery._query_stats.QueryStats at 0x7f60791c2c18>"
      ]
     },
     "execution_count": 4,
     "metadata": {},
     "output_type": "execute_result"
    }
   ],
   "source": [
    "%bq dryrun -q Concat"
   ]
  },
  {
   "cell_type": "markdown",
   "metadata": {},
   "source": [
    "Execute the query, as we have a monthly free 1TB quota on GCP."
   ]
  },
  {
   "cell_type": "code",
   "execution_count": 5,
   "metadata": {},
   "outputs": [
    {
     "data": {
      "text/html": [
       "\n",
       "    <div class=\"bqtv\" id=\"2_161150913759\"><table><tr><th>msno</th><th>date</th><th>num_25</th><th>num_50</th><th>num_75</th><th>num_985</th><th>num_100</th><th>num_unq</th><th>total_secs</th></tr><tr><td>8nSyuVdv8qR4aHr1hUx1FXoIuxpZluW+kR/d0ounuYA=</td><td>20160512</td><td>24</td><td>2</td><td>1</td><td>1</td><td>53</td><td>61</td><td>15019.365</td></tr><tr><td>d2GtIMHD45Ri5/Ksa86X4FYWCZMM3fZ4WRDKjbhp15A=</td><td>20160205</td><td>81</td><td>2</td><td>4</td><td>3</td><td>34</td><td>74</td><td>9600.676</td></tr><tr><td>d2GtIMHD45Ri5/Ksa86X4FYWCZMM3fZ4WRDKjbhp15A=</td><td>20161124</td><td>37</td><td>4</td><td>4</td><td>2</td><td>48</td><td>83</td><td>12778.431</td></tr><tr><td>d2GtIMHD45Ri5/Ksa86X4FYWCZMM3fZ4WRDKjbhp15A=</td><td>20170114</td><td>113</td><td>22</td><td>8</td><td>3</td><td>40</td><td>163</td><td>14347.198</td></tr><tr><td>kb3qHtlz+K4Ume8TF4FQi9xwrTZqzFFvBDZsdYvyQ0A=</td><td>20161217</td><td>32</td><td>1</td><td>0</td><td>1</td><td>30</td><td>58</td><td>7391.719</td></tr><tr><td>B/eZk3P+A98+vport4EL6KBRhYiioS+F1uVJSGmAUGw=</td><td>20150720</td><td>22</td><td>2</td><td>0</td><td>2</td><td>38</td><td>52</td><td>10062.741</td></tr><tr><td>ysLUp9Ebqx3RrCNmZAOSmyW7kDZQafvyg7+Ge6lbG3Y=</td><td>20150717</td><td>38</td><td>6</td><td>5</td><td>4</td><td>66</td><td>87</td><td>20265.215</td></tr><tr><td>ysLUp9Ebqx3RrCNmZAOSmyW7kDZQafvyg7+Ge6lbG3Y=</td><td>20160318</td><td>36</td><td>4</td><td>2</td><td>4</td><td>97</td><td>61</td><td>24174.545</td></tr><tr><td>65MC0qTNLb/tG6fPv0IN7AzLqma4IkDHe1SEB8TedA8=</td><td>20150411</td><td>42</td><td>24</td><td>13</td><td>6</td><td>85</td><td>131</td><td>26109.762</td></tr><tr><td>aDyAkp8ZPYJUAVISQZ9oe1/2Ub1iDbq1Z9B6lBaTGRk=</td><td>20150107</td><td>23</td><td>12</td><td>3</td><td>7</td><td>60</td><td>90</td><td>19544.564</td></tr><tr><td>hXBw2UrphMglzTCevQhiO3MxweaxWheKbUy63y9L1KU=</td><td>20160725</td><td>25</td><td>8</td><td>2</td><td>6</td><td>27</td><td>52</td><td>8100.914</td></tr><tr><td>SaDQjFXhE3OTKa4nphNdFUTGXHz4CnvamDimkIlu+iE=</td><td>20151230</td><td>24</td><td>2</td><td>2</td><td>2</td><td>141</td><td>148</td><td>37411.15</td></tr><tr><td>SaDQjFXhE3OTKa4nphNdFUTGXHz4CnvamDimkIlu+iE=</td><td>20160222</td><td>31</td><td>3</td><td>4</td><td>0</td><td>97</td><td>125</td><td>26303.642</td></tr><tr><td>SaDQjFXhE3OTKa4nphNdFUTGXHz4CnvamDimkIlu+iE=</td><td>20160418</td><td>43</td><td>5</td><td>1</td><td>2</td><td>63</td><td>101</td><td>17315.789</td></tr><tr><td>3UVpd9pHoKk8oMIIrTqKaoOasIH2iQFLboGZJvAzwKY=</td><td>20160408</td><td>25</td><td>4</td><td>3</td><td>8</td><td>35</td><td>65</td><td>12209.435</td></tr><tr><td>xo1owQF/ASAxQQytAwHxoWBdQTDAw9123LZ/mEG1SG4=</td><td>20170215</td><td>22</td><td>2</td><td>4</td><td>1</td><td>38</td><td>52</td><td>11012.843</td></tr><tr><td>NhQeRGDNlefA7sIPQOWdZtToftl1sG6fyVfwccXwGdE=</td><td>20150704</td><td>45</td><td>15</td><td>4</td><td>5</td><td>18</td><td>72</td><td>7911.527</td></tr><tr><td>yOphCa1K43qe9z2shmdjutvB6gRfpbdrifCh1U7Vz/M=</td><td>20150509</td><td>40</td><td>1</td><td>0</td><td>1</td><td>35</td><td>55</td><td>9400.082</td></tr><tr><td>yOphCa1K43qe9z2shmdjutvB6gRfpbdrifCh1U7Vz/M=</td><td>20151025</td><td>44</td><td>1</td><td>0</td><td>3</td><td>58</td><td>78</td><td>13128.114</td></tr><tr><td>yOphCa1K43qe9z2shmdjutvB6gRfpbdrifCh1U7Vz/M=</td><td>20151217</td><td>47</td><td>1</td><td>0</td><td>2</td><td>71</td><td>107</td><td>18339.627</td></tr><tr><td>7iriLc53KWyBF37EDWD/B11T84G6jt6B1c5PH8YUnh4=</td><td>20150308</td><td>25</td><td>3</td><td>2</td><td>4</td><td>156</td><td>172</td><td>36691.133</td></tr><tr><td>7iriLc53KWyBF37EDWD/B11T84G6jt6B1c5PH8YUnh4=</td><td>20151130</td><td>63</td><td>19</td><td>13</td><td>11</td><td>175</td><td>152</td><td>47000.279</td></tr><tr><td>7iriLc53KWyBF37EDWD/B11T84G6jt6B1c5PH8YUnh4=</td><td>20160119</td><td>64</td><td>14</td><td>7</td><td>5</td><td>44</td><td>104</td><td>14209.987</td></tr><tr><td>Kc9QWnnfaRtAy6n+LhHckLMHbXYRm0pr/BKFhCM+f58=</td><td>20150208</td><td>30</td><td>7</td><td>4</td><td>4</td><td>35</td><td>59</td><td>11942.761</td></tr><tr><td>Kc9QWnnfaRtAy6n+LhHckLMHbXYRm0pr/BKFhCM+f58=</td><td>20170128</td><td>101</td><td>12</td><td>9</td><td>3</td><td>19</td><td>94</td><td>9082.138</td></tr></table></div>\n",
       "    <br />(rows: 410502905, time: 50.4s,     2GB processed, job: job_AKvA3cWiuhm8MPQCE4UIpEzCzsVM)<br />\n",
       "    <script src=\"/static/components/requirejs/require.js\"></script>\n",
       "    <script>\n",
       "      require.config({\n",
       "        paths: {\n",
       "          base: '/static/base',\n",
       "          d3: '//cdnjs.cloudflare.com/ajax/libs/d3/3.4.13/d3',\n",
       "          plotly: 'https://cdn.plot.ly/plotly-1.5.1.min.js?noext',\n",
       "          jquery: '//ajax.googleapis.com/ajax/libs/jquery/2.0.0/jquery.min'\n",
       "        },\n",
       "        map: {\n",
       "          '*': {\n",
       "            datalab: 'nbextensions/gcpdatalab'\n",
       "          }\n",
       "        },\n",
       "        shim: {\n",
       "          plotly: {\n",
       "            deps: ['d3', 'jquery'],\n",
       "            exports: 'plotly'\n",
       "          }\n",
       "        }\n",
       "      });\n",
       "\n",
       "      require(['datalab/charting', 'datalab/element!2_161150913759', 'base/js/events',\n",
       "          'datalab/style!/nbextensions/gcpdatalab/charting.css'],\n",
       "        function(charts, dom, events) {\n",
       "          charts.render('gcharts', dom, events, 'paged_table', [], {\"rows\": [{\"c\": [{\"v\": \"8nSyuVdv8qR4aHr1hUx1FXoIuxpZluW+kR/d0ounuYA=\"}, {\"v\": 20160512}, {\"v\": 24}, {\"v\": 2}, {\"v\": 1}, {\"v\": 1}, {\"v\": 53}, {\"v\": 61}, {\"v\": 15019.365}]}, {\"c\": [{\"v\": \"d2GtIMHD45Ri5/Ksa86X4FYWCZMM3fZ4WRDKjbhp15A=\"}, {\"v\": 20160205}, {\"v\": 81}, {\"v\": 2}, {\"v\": 4}, {\"v\": 3}, {\"v\": 34}, {\"v\": 74}, {\"v\": 9600.676}]}, {\"c\": [{\"v\": \"d2GtIMHD45Ri5/Ksa86X4FYWCZMM3fZ4WRDKjbhp15A=\"}, {\"v\": 20161124}, {\"v\": 37}, {\"v\": 4}, {\"v\": 4}, {\"v\": 2}, {\"v\": 48}, {\"v\": 83}, {\"v\": 12778.431}]}, {\"c\": [{\"v\": \"d2GtIMHD45Ri5/Ksa86X4FYWCZMM3fZ4WRDKjbhp15A=\"}, {\"v\": 20170114}, {\"v\": 113}, {\"v\": 22}, {\"v\": 8}, {\"v\": 3}, {\"v\": 40}, {\"v\": 163}, {\"v\": 14347.198}]}, {\"c\": [{\"v\": \"kb3qHtlz+K4Ume8TF4FQi9xwrTZqzFFvBDZsdYvyQ0A=\"}, {\"v\": 20161217}, {\"v\": 32}, {\"v\": 1}, {\"v\": 0}, {\"v\": 1}, {\"v\": 30}, {\"v\": 58}, {\"v\": 7391.719}]}, {\"c\": [{\"v\": \"B/eZk3P+A98+vport4EL6KBRhYiioS+F1uVJSGmAUGw=\"}, {\"v\": 20150720}, {\"v\": 22}, {\"v\": 2}, {\"v\": 0}, {\"v\": 2}, {\"v\": 38}, {\"v\": 52}, {\"v\": 10062.741}]}, {\"c\": [{\"v\": \"ysLUp9Ebqx3RrCNmZAOSmyW7kDZQafvyg7+Ge6lbG3Y=\"}, {\"v\": 20150717}, {\"v\": 38}, {\"v\": 6}, {\"v\": 5}, {\"v\": 4}, {\"v\": 66}, {\"v\": 87}, {\"v\": 20265.215}]}, {\"c\": [{\"v\": \"ysLUp9Ebqx3RrCNmZAOSmyW7kDZQafvyg7+Ge6lbG3Y=\"}, {\"v\": 20160318}, {\"v\": 36}, {\"v\": 4}, {\"v\": 2}, {\"v\": 4}, {\"v\": 97}, {\"v\": 61}, {\"v\": 24174.545}]}, {\"c\": [{\"v\": \"65MC0qTNLb/tG6fPv0IN7AzLqma4IkDHe1SEB8TedA8=\"}, {\"v\": 20150411}, {\"v\": 42}, {\"v\": 24}, {\"v\": 13}, {\"v\": 6}, {\"v\": 85}, {\"v\": 131}, {\"v\": 26109.762}]}, {\"c\": [{\"v\": \"aDyAkp8ZPYJUAVISQZ9oe1/2Ub1iDbq1Z9B6lBaTGRk=\"}, {\"v\": 20150107}, {\"v\": 23}, {\"v\": 12}, {\"v\": 3}, {\"v\": 7}, {\"v\": 60}, {\"v\": 90}, {\"v\": 19544.564}]}, {\"c\": [{\"v\": \"hXBw2UrphMglzTCevQhiO3MxweaxWheKbUy63y9L1KU=\"}, {\"v\": 20160725}, {\"v\": 25}, {\"v\": 8}, {\"v\": 2}, {\"v\": 6}, {\"v\": 27}, {\"v\": 52}, {\"v\": 8100.914}]}, {\"c\": [{\"v\": \"SaDQjFXhE3OTKa4nphNdFUTGXHz4CnvamDimkIlu+iE=\"}, {\"v\": 20151230}, {\"v\": 24}, {\"v\": 2}, {\"v\": 2}, {\"v\": 2}, {\"v\": 141}, {\"v\": 148}, {\"v\": 37411.15}]}, {\"c\": [{\"v\": \"SaDQjFXhE3OTKa4nphNdFUTGXHz4CnvamDimkIlu+iE=\"}, {\"v\": 20160222}, {\"v\": 31}, {\"v\": 3}, {\"v\": 4}, {\"v\": 0}, {\"v\": 97}, {\"v\": 125}, {\"v\": 26303.642}]}, {\"c\": [{\"v\": \"SaDQjFXhE3OTKa4nphNdFUTGXHz4CnvamDimkIlu+iE=\"}, {\"v\": 20160418}, {\"v\": 43}, {\"v\": 5}, {\"v\": 1}, {\"v\": 2}, {\"v\": 63}, {\"v\": 101}, {\"v\": 17315.789}]}, {\"c\": [{\"v\": \"3UVpd9pHoKk8oMIIrTqKaoOasIH2iQFLboGZJvAzwKY=\"}, {\"v\": 20160408}, {\"v\": 25}, {\"v\": 4}, {\"v\": 3}, {\"v\": 8}, {\"v\": 35}, {\"v\": 65}, {\"v\": 12209.435}]}, {\"c\": [{\"v\": \"xo1owQF/ASAxQQytAwHxoWBdQTDAw9123LZ/mEG1SG4=\"}, {\"v\": 20170215}, {\"v\": 22}, {\"v\": 2}, {\"v\": 4}, {\"v\": 1}, {\"v\": 38}, {\"v\": 52}, {\"v\": 11012.843}]}, {\"c\": [{\"v\": \"NhQeRGDNlefA7sIPQOWdZtToftl1sG6fyVfwccXwGdE=\"}, {\"v\": 20150704}, {\"v\": 45}, {\"v\": 15}, {\"v\": 4}, {\"v\": 5}, {\"v\": 18}, {\"v\": 72}, {\"v\": 7911.527}]}, {\"c\": [{\"v\": \"yOphCa1K43qe9z2shmdjutvB6gRfpbdrifCh1U7Vz/M=\"}, {\"v\": 20150509}, {\"v\": 40}, {\"v\": 1}, {\"v\": 0}, {\"v\": 1}, {\"v\": 35}, {\"v\": 55}, {\"v\": 9400.082}]}, {\"c\": [{\"v\": \"yOphCa1K43qe9z2shmdjutvB6gRfpbdrifCh1U7Vz/M=\"}, {\"v\": 20151025}, {\"v\": 44}, {\"v\": 1}, {\"v\": 0}, {\"v\": 3}, {\"v\": 58}, {\"v\": 78}, {\"v\": 13128.114}]}, {\"c\": [{\"v\": \"yOphCa1K43qe9z2shmdjutvB6gRfpbdrifCh1U7Vz/M=\"}, {\"v\": 20151217}, {\"v\": 47}, {\"v\": 1}, {\"v\": 0}, {\"v\": 2}, {\"v\": 71}, {\"v\": 107}, {\"v\": 18339.627}]}, {\"c\": [{\"v\": \"7iriLc53KWyBF37EDWD/B11T84G6jt6B1c5PH8YUnh4=\"}, {\"v\": 20150308}, {\"v\": 25}, {\"v\": 3}, {\"v\": 2}, {\"v\": 4}, {\"v\": 156}, {\"v\": 172}, {\"v\": 36691.133}]}, {\"c\": [{\"v\": \"7iriLc53KWyBF37EDWD/B11T84G6jt6B1c5PH8YUnh4=\"}, {\"v\": 20151130}, {\"v\": 63}, {\"v\": 19}, {\"v\": 13}, {\"v\": 11}, {\"v\": 175}, {\"v\": 152}, {\"v\": 47000.279}]}, {\"c\": [{\"v\": \"7iriLc53KWyBF37EDWD/B11T84G6jt6B1c5PH8YUnh4=\"}, {\"v\": 20160119}, {\"v\": 64}, {\"v\": 14}, {\"v\": 7}, {\"v\": 5}, {\"v\": 44}, {\"v\": 104}, {\"v\": 14209.987}]}, {\"c\": [{\"v\": \"Kc9QWnnfaRtAy6n+LhHckLMHbXYRm0pr/BKFhCM+f58=\"}, {\"v\": 20150208}, {\"v\": 30}, {\"v\": 7}, {\"v\": 4}, {\"v\": 4}, {\"v\": 35}, {\"v\": 59}, {\"v\": 11942.761}]}, {\"c\": [{\"v\": \"Kc9QWnnfaRtAy6n+LhHckLMHbXYRm0pr/BKFhCM+f58=\"}, {\"v\": 20170128}, {\"v\": 101}, {\"v\": 12}, {\"v\": 9}, {\"v\": 3}, {\"v\": 19}, {\"v\": 94}, {\"v\": 9082.138}]}], \"cols\": [{\"type\": \"string\", \"label\": \"msno\", \"id\": \"msno\"}, {\"type\": \"number\", \"label\": \"date\", \"id\": \"date\"}, {\"type\": \"number\", \"label\": \"num_25\", \"id\": \"num_25\"}, {\"type\": \"number\", \"label\": \"num_50\", \"id\": \"num_50\"}, {\"type\": \"number\", \"label\": \"num_75\", \"id\": \"num_75\"}, {\"type\": \"number\", \"label\": \"num_985\", \"id\": \"num_985\"}, {\"type\": \"number\", \"label\": \"num_100\", \"id\": \"num_100\"}, {\"type\": \"number\", \"label\": \"num_unq\", \"id\": \"num_unq\"}, {\"type\": \"number\", \"label\": \"total_secs\", \"id\": \"total_secs\"}]},\n",
       "            {\n",
       "              pageSize: 25,\n",
       "              cssClassNames:  {\n",
       "                tableRow: 'gchart-table-row',\n",
       "                headerRow: 'gchart-table-headerrow',\n",
       "                oddTableRow: 'gchart-table-oddrow',\n",
       "                selectedTableRow: 'gchart-table-selectedrow',\n",
       "                hoverTableRow: 'gchart-table-hoverrow',\n",
       "                tableCell: 'gchart-table-cell',\n",
       "                headerCell: 'gchart-table-headercell',\n",
       "                rowNumberCell: 'gchart-table-rownumcell'\n",
       "              }\n",
       "            },\n",
       "            {source_index: 0, fields: 'msno,date,num_25,num_50,num_75,num_985,num_100,num_unq,total_secs'},\n",
       "            0,\n",
       "            410502905);\n",
       "        }\n",
       "      );\n",
       "    </script>\n",
       "  "
      ],
      "text/plain": [
       "QueryResultsTable job_AKvA3cWiuhm8MPQCE4UIpEzCzsVM"
      ]
     },
     "execution_count": 5,
     "metadata": {},
     "output_type": "execute_result"
    }
   ],
   "source": [
    "%bq execute -q Concat"
   ]
  },
  {
   "cell_type": "code",
   "execution_count": 7,
   "metadata": {},
   "outputs": [],
   "source": [
    "# Import bigquery api\n",
    "# The Datalab APIs are provided in the google.datalab Python module, and the BigQuery functionality is contained within the google.datalab.bigquery module.\n",
    "import google.datalab.bigquery as bq"
   ]
  },
  {
   "cell_type": "code",
   "execution_count": 10,
   "metadata": {},
   "outputs": [],
   "source": [
    "_ = bq.Table(\"kkbox_bucket.user_logs2\").delete()"
   ]
  },
  {
   "cell_type": "code",
   "execution_count": 11,
   "metadata": {},
   "outputs": [
    {
     "data": {
      "text/html": [
       "<ul><li>dark-garden-296106.kkbox_bucket.members</li><li>dark-garden-296106.kkbox_bucket.submission</li><li>dark-garden-296106.kkbox_bucket.submission2</li><li>dark-garden-296106.kkbox_bucket.train</li><li>dark-garden-296106.kkbox_bucket.transaction</li><li>dark-garden-296106.kkbox_bucket.transaction2</li><li>dark-garden-296106.kkbox_bucket.user_label</li><li>dark-garden-296106.kkbox_bucket.user_label2</li><li>dark-garden-296106.kkbox_bucket.user_logs</li></ul>"
      ],
      "text/plain": [
       "<IPython.core.display.HTML object>"
      ]
     },
     "execution_count": 11,
     "metadata": {},
     "output_type": "execute_result"
    }
   ],
   "source": [
    "%bq tables list"
   ]
  },
  {
   "cell_type": "markdown",
   "metadata": {},
   "source": [
    "### 2. Transaction Data Concatenation"
   ]
  },
  {
   "cell_type": "code",
   "execution_count": 12,
   "metadata": {},
   "outputs": [
    {
     "data": {
      "text/html": [
       "\n",
       "    <div class=\"bqtv\" id=\"3_161150924227\"><table><tr><th>msno</th><th>payment_method_id</th><th>payment_plan_days</th><th>plan_list_price</th><th>actual_amount_paid</th><th>is_auto_renew</th><th>transaction_date</th><th>membership_expire_date</th><th>is_cancel</th></tr><tr><td>UWBMGpIq/9wJvjlHpGVVHGzMdjzJ25pqvSrzMeU+ufo=</td><td>41</td><td>30</td><td>149</td><td>149</td><td>1</td><td>20150131</td><td>20150831</td><td>0</td></tr><tr><td>wgB9NmF/8S91uYsy4UVXEHxQCBlueAUpTmWIZj+snM8=</td><td>41</td><td>30</td><td>129</td><td>129</td><td>1</td><td>20161004</td><td>20161004</td><td>1</td></tr><tr><td>Sz7K5F39oeWJ8n40nVhLKoo8y4ABqPExFI8Lc7DwjN8=</td><td>38</td><td>30</td><td>149</td><td>149</td><td>0</td><td>20160619</td><td>20160719</td><td>0</td></tr><tr><td>CK+FHYNFnCsSB+KgShx6X7MDh3yqmjkS61ntLO/e4wc=</td><td>41</td><td>30</td><td>149</td><td>149</td><td>1</td><td>20150126</td><td>20150226</td><td>0</td></tr><tr><td>+CBhSarLsxm1W0hdtRI/MwnfUq2GqI7WumcmPCTROlA=</td><td>36</td><td>30</td><td>180</td><td>180</td><td>1</td><td>20161028</td><td>20161127</td><td>0</td></tr><tr><td>vrLoJXfgbePPROfTG6btXUlC8I+EUut73r5wVfinUz8=</td><td>41</td><td>30</td><td>149</td><td>0</td><td>1</td><td>20151220</td><td>20151220</td><td>1</td></tr><tr><td>u1mbis/8rMvKSa84gNQU95WCTnoPAIJuaZsbjSY17DM=</td><td>41</td><td>30</td><td>129</td><td>129</td><td>1</td><td>20160806</td><td>20161007</td><td>0</td></tr><tr><td>nq50tQ0lkOTnDeNtZ0j32TzRGfg7LMS5rzbIkHxAM0E=</td><td>41</td><td>30</td><td>129</td><td>129</td><td>1</td><td>20160311</td><td>20160411</td><td>0</td></tr><tr><td>/4GH7gzU/YuEcFQEq4age/cKnwnz0fGzLnCUEOIKiBU=</td><td>38</td><td>30</td><td>149</td><td>149</td><td>0</td><td>20160217</td><td>20160318</td><td>0</td></tr><tr><td>8KDbSefw33kR0YwPLUiW130kMpozWWoRDlyNTbJgiQ4=</td><td>38</td><td>30</td><td>149</td><td>149</td><td>0</td><td>20151115</td><td>20151215</td><td>0</td></tr><tr><td>vfCfBENgK+YTfrkAEmMrSpVh7rP88PWHfAXoMSJezBU=</td><td>41</td><td>30</td><td>129</td><td>129</td><td>1</td><td>20160307</td><td>20160407</td><td>0</td></tr><tr><td>1Ih/nkRVpYk5cYKb+KgaVyktW/kFyMd50SI4/IL1gVI=</td><td>41</td><td>30</td><td>99</td><td>99</td><td>1</td><td>20160408</td><td>20160508</td><td>0</td></tr><tr><td>+j4hfXf5EyqvO7I9yPkaQCqJuYbeBMBbBtnu3ct8qhE=</td><td>39</td><td>30</td><td>149</td><td>149</td><td>1</td><td>20161231</td><td>20170203</td><td>0</td></tr><tr><td>RAbEsFAm/qQnv1whYCjkq4+cqcMpS+uFmkvgt7I1BaY=</td><td>41</td><td>30</td><td>99</td><td>99</td><td>1</td><td>20170203</td><td>20170303</td><td>0</td></tr><tr><td>B/KUuF7H6nV+7DWHkyPY2cI5FsRIMV7ty/R3nrNLgHc=</td><td>41</td><td>30</td><td>99</td><td>99</td><td>1</td><td>20160721</td><td>20160821</td><td>0</td></tr><tr><td>5ykrjoTvEJrEWj9YMs614fISmcDl02U0+AOi41RqIRw=</td><td>41</td><td>30</td><td>149</td><td>0</td><td>1</td><td>20160807</td><td>20160907</td><td>0</td></tr><tr><td>4Xs/tb5vXg+kNx9buYQ2MkkaIr7FwF7cujs8jaHQ4NI=</td><td>41</td><td>30</td><td>149</td><td>119</td><td>1</td><td>20150606</td><td>20150706</td><td>0</td></tr><tr><td>BzisqksD8W82HO8TBMnrpglR19mo+abjzkIJb9/NjZw=</td><td>41</td><td>30</td><td>129</td><td>129</td><td>1</td><td>20150604</td><td>20150704</td><td>0</td></tr><tr><td>hJlk46eOpx/DFh8CcPy9+cAu95lLC8kAVBAOsde/EQ0=</td><td>41</td><td>30</td><td>149</td><td>149</td><td>1</td><td>20150403</td><td>20150403</td><td>1</td></tr><tr><td>mx3S7YE5wjoIZg/xAK9Ib3F7Y9pnW27SCiThAanawno=</td><td>40</td><td>30</td><td>149</td><td>149</td><td>1</td><td>20170210</td><td>20170309</td><td>0</td></tr><tr><td>NKyAo8OwoA1q0iHARYKhsI+TqDIKQ2HD5XlA64Yaweo=</td><td>41</td><td>30</td><td>149</td><td>149</td><td>1</td><td>20150610</td><td>20150710</td><td>0</td></tr><tr><td>Sp9dYbqhN6ImqWQf1fY2w8ty7qzC+5BRMXPvFcktA0U=</td><td>41</td><td>30</td><td>149</td><td>149</td><td>1</td><td>20150514</td><td>20150615</td><td>0</td></tr><tr><td>3LhNwMCkLqi1qZkcU/xF2dCAaKvBvXkFTW5nkLPSZic=</td><td>38</td><td>30</td><td>149</td><td>149</td><td>0</td><td>20150327</td><td>20150426</td><td>0</td></tr><tr><td>0aSR6e4gcpewSQBO8eZrB4KhDxnNOw85RhFspKhxIK4=</td><td>35</td><td>7</td><td>0</td><td>0</td><td>0</td><td>20150608</td><td>20150615</td><td>0</td></tr><tr><td>69FXv4a4CnqXJtB98KgyvDe2XR2ldF3LcqsfQggjVT8=</td><td>40</td><td>30</td><td>149</td><td>149</td><td>1</td><td>20160603</td><td>20160703</td><td>0</td></tr></table></div>\n",
       "    <br />(rows: 21547746, dark-garden-296106.kkbox_bucket.transaction)<br />\n",
       "    <script src=\"/static/components/requirejs/require.js\"></script>\n",
       "    <script>\n",
       "      require.config({\n",
       "        paths: {\n",
       "          base: '/static/base',\n",
       "          d3: '//cdnjs.cloudflare.com/ajax/libs/d3/3.4.13/d3',\n",
       "          plotly: 'https://cdn.plot.ly/plotly-1.5.1.min.js?noext',\n",
       "          jquery: '//ajax.googleapis.com/ajax/libs/jquery/2.0.0/jquery.min'\n",
       "        },\n",
       "        map: {\n",
       "          '*': {\n",
       "            datalab: 'nbextensions/gcpdatalab'\n",
       "          }\n",
       "        },\n",
       "        shim: {\n",
       "          plotly: {\n",
       "            deps: ['d3', 'jquery'],\n",
       "            exports: 'plotly'\n",
       "          }\n",
       "        }\n",
       "      });\n",
       "\n",
       "      require(['datalab/charting', 'datalab/element!3_161150924227', 'base/js/events',\n",
       "          'datalab/style!/nbextensions/gcpdatalab/charting.css'],\n",
       "        function(charts, dom, events) {\n",
       "          charts.render('gcharts', dom, events, 'paged_table', [], {\"rows\": [{\"c\": [{\"v\": \"UWBMGpIq/9wJvjlHpGVVHGzMdjzJ25pqvSrzMeU+ufo=\"}, {\"v\": 41}, {\"v\": 30}, {\"v\": 149}, {\"v\": 149}, {\"v\": 1}, {\"v\": 20150131}, {\"v\": 20150831}, {\"v\": 0}]}, {\"c\": [{\"v\": \"wgB9NmF/8S91uYsy4UVXEHxQCBlueAUpTmWIZj+snM8=\"}, {\"v\": 41}, {\"v\": 30}, {\"v\": 129}, {\"v\": 129}, {\"v\": 1}, {\"v\": 20161004}, {\"v\": 20161004}, {\"v\": 1}]}, {\"c\": [{\"v\": \"Sz7K5F39oeWJ8n40nVhLKoo8y4ABqPExFI8Lc7DwjN8=\"}, {\"v\": 38}, {\"v\": 30}, {\"v\": 149}, {\"v\": 149}, {\"v\": 0}, {\"v\": 20160619}, {\"v\": 20160719}, {\"v\": 0}]}, {\"c\": [{\"v\": \"CK+FHYNFnCsSB+KgShx6X7MDh3yqmjkS61ntLO/e4wc=\"}, {\"v\": 41}, {\"v\": 30}, {\"v\": 149}, {\"v\": 149}, {\"v\": 1}, {\"v\": 20150126}, {\"v\": 20150226}, {\"v\": 0}]}, {\"c\": [{\"v\": \"+CBhSarLsxm1W0hdtRI/MwnfUq2GqI7WumcmPCTROlA=\"}, {\"v\": 36}, {\"v\": 30}, {\"v\": 180}, {\"v\": 180}, {\"v\": 1}, {\"v\": 20161028}, {\"v\": 20161127}, {\"v\": 0}]}, {\"c\": [{\"v\": \"vrLoJXfgbePPROfTG6btXUlC8I+EUut73r5wVfinUz8=\"}, {\"v\": 41}, {\"v\": 30}, {\"v\": 149}, {\"v\": 0}, {\"v\": 1}, {\"v\": 20151220}, {\"v\": 20151220}, {\"v\": 1}]}, {\"c\": [{\"v\": \"u1mbis/8rMvKSa84gNQU95WCTnoPAIJuaZsbjSY17DM=\"}, {\"v\": 41}, {\"v\": 30}, {\"v\": 129}, {\"v\": 129}, {\"v\": 1}, {\"v\": 20160806}, {\"v\": 20161007}, {\"v\": 0}]}, {\"c\": [{\"v\": \"nq50tQ0lkOTnDeNtZ0j32TzRGfg7LMS5rzbIkHxAM0E=\"}, {\"v\": 41}, {\"v\": 30}, {\"v\": 129}, {\"v\": 129}, {\"v\": 1}, {\"v\": 20160311}, {\"v\": 20160411}, {\"v\": 0}]}, {\"c\": [{\"v\": \"/4GH7gzU/YuEcFQEq4age/cKnwnz0fGzLnCUEOIKiBU=\"}, {\"v\": 38}, {\"v\": 30}, {\"v\": 149}, {\"v\": 149}, {\"v\": 0}, {\"v\": 20160217}, {\"v\": 20160318}, {\"v\": 0}]}, {\"c\": [{\"v\": \"8KDbSefw33kR0YwPLUiW130kMpozWWoRDlyNTbJgiQ4=\"}, {\"v\": 38}, {\"v\": 30}, {\"v\": 149}, {\"v\": 149}, {\"v\": 0}, {\"v\": 20151115}, {\"v\": 20151215}, {\"v\": 0}]}, {\"c\": [{\"v\": \"vfCfBENgK+YTfrkAEmMrSpVh7rP88PWHfAXoMSJezBU=\"}, {\"v\": 41}, {\"v\": 30}, {\"v\": 129}, {\"v\": 129}, {\"v\": 1}, {\"v\": 20160307}, {\"v\": 20160407}, {\"v\": 0}]}, {\"c\": [{\"v\": \"1Ih/nkRVpYk5cYKb+KgaVyktW/kFyMd50SI4/IL1gVI=\"}, {\"v\": 41}, {\"v\": 30}, {\"v\": 99}, {\"v\": 99}, {\"v\": 1}, {\"v\": 20160408}, {\"v\": 20160508}, {\"v\": 0}]}, {\"c\": [{\"v\": \"+j4hfXf5EyqvO7I9yPkaQCqJuYbeBMBbBtnu3ct8qhE=\"}, {\"v\": 39}, {\"v\": 30}, {\"v\": 149}, {\"v\": 149}, {\"v\": 1}, {\"v\": 20161231}, {\"v\": 20170203}, {\"v\": 0}]}, {\"c\": [{\"v\": \"RAbEsFAm/qQnv1whYCjkq4+cqcMpS+uFmkvgt7I1BaY=\"}, {\"v\": 41}, {\"v\": 30}, {\"v\": 99}, {\"v\": 99}, {\"v\": 1}, {\"v\": 20170203}, {\"v\": 20170303}, {\"v\": 0}]}, {\"c\": [{\"v\": \"B/KUuF7H6nV+7DWHkyPY2cI5FsRIMV7ty/R3nrNLgHc=\"}, {\"v\": 41}, {\"v\": 30}, {\"v\": 99}, {\"v\": 99}, {\"v\": 1}, {\"v\": 20160721}, {\"v\": 20160821}, {\"v\": 0}]}, {\"c\": [{\"v\": \"5ykrjoTvEJrEWj9YMs614fISmcDl02U0+AOi41RqIRw=\"}, {\"v\": 41}, {\"v\": 30}, {\"v\": 149}, {\"v\": 0}, {\"v\": 1}, {\"v\": 20160807}, {\"v\": 20160907}, {\"v\": 0}]}, {\"c\": [{\"v\": \"4Xs/tb5vXg+kNx9buYQ2MkkaIr7FwF7cujs8jaHQ4NI=\"}, {\"v\": 41}, {\"v\": 30}, {\"v\": 149}, {\"v\": 119}, {\"v\": 1}, {\"v\": 20150606}, {\"v\": 20150706}, {\"v\": 0}]}, {\"c\": [{\"v\": \"BzisqksD8W82HO8TBMnrpglR19mo+abjzkIJb9/NjZw=\"}, {\"v\": 41}, {\"v\": 30}, {\"v\": 129}, {\"v\": 129}, {\"v\": 1}, {\"v\": 20150604}, {\"v\": 20150704}, {\"v\": 0}]}, {\"c\": [{\"v\": \"hJlk46eOpx/DFh8CcPy9+cAu95lLC8kAVBAOsde/EQ0=\"}, {\"v\": 41}, {\"v\": 30}, {\"v\": 149}, {\"v\": 149}, {\"v\": 1}, {\"v\": 20150403}, {\"v\": 20150403}, {\"v\": 1}]}, {\"c\": [{\"v\": \"mx3S7YE5wjoIZg/xAK9Ib3F7Y9pnW27SCiThAanawno=\"}, {\"v\": 40}, {\"v\": 30}, {\"v\": 149}, {\"v\": 149}, {\"v\": 1}, {\"v\": 20170210}, {\"v\": 20170309}, {\"v\": 0}]}, {\"c\": [{\"v\": \"NKyAo8OwoA1q0iHARYKhsI+TqDIKQ2HD5XlA64Yaweo=\"}, {\"v\": 41}, {\"v\": 30}, {\"v\": 149}, {\"v\": 149}, {\"v\": 1}, {\"v\": 20150610}, {\"v\": 20150710}, {\"v\": 0}]}, {\"c\": [{\"v\": \"Sp9dYbqhN6ImqWQf1fY2w8ty7qzC+5BRMXPvFcktA0U=\"}, {\"v\": 41}, {\"v\": 30}, {\"v\": 149}, {\"v\": 149}, {\"v\": 1}, {\"v\": 20150514}, {\"v\": 20150615}, {\"v\": 0}]}, {\"c\": [{\"v\": \"3LhNwMCkLqi1qZkcU/xF2dCAaKvBvXkFTW5nkLPSZic=\"}, {\"v\": 38}, {\"v\": 30}, {\"v\": 149}, {\"v\": 149}, {\"v\": 0}, {\"v\": 20150327}, {\"v\": 20150426}, {\"v\": 0}]}, {\"c\": [{\"v\": \"0aSR6e4gcpewSQBO8eZrB4KhDxnNOw85RhFspKhxIK4=\"}, {\"v\": 35}, {\"v\": 7}, {\"v\": 0}, {\"v\": 0}, {\"v\": 0}, {\"v\": 20150608}, {\"v\": 20150615}, {\"v\": 0}]}, {\"c\": [{\"v\": \"69FXv4a4CnqXJtB98KgyvDe2XR2ldF3LcqsfQggjVT8=\"}, {\"v\": 40}, {\"v\": 30}, {\"v\": 149}, {\"v\": 149}, {\"v\": 1}, {\"v\": 20160603}, {\"v\": 20160703}, {\"v\": 0}]}], \"cols\": [{\"type\": \"string\", \"label\": \"msno\", \"id\": \"msno\"}, {\"type\": \"number\", \"label\": \"payment_method_id\", \"id\": \"payment_method_id\"}, {\"type\": \"number\", \"label\": \"payment_plan_days\", \"id\": \"payment_plan_days\"}, {\"type\": \"number\", \"label\": \"plan_list_price\", \"id\": \"plan_list_price\"}, {\"type\": \"number\", \"label\": \"actual_amount_paid\", \"id\": \"actual_amount_paid\"}, {\"type\": \"number\", \"label\": \"is_auto_renew\", \"id\": \"is_auto_renew\"}, {\"type\": \"number\", \"label\": \"transaction_date\", \"id\": \"transaction_date\"}, {\"type\": \"number\", \"label\": \"membership_expire_date\", \"id\": \"membership_expire_date\"}, {\"type\": \"number\", \"label\": \"is_cancel\", \"id\": \"is_cancel\"}]},\n",
       "            {\n",
       "              pageSize: 25,\n",
       "              cssClassNames:  {\n",
       "                tableRow: 'gchart-table-row',\n",
       "                headerRow: 'gchart-table-headerrow',\n",
       "                oddTableRow: 'gchart-table-oddrow',\n",
       "                selectedTableRow: 'gchart-table-selectedrow',\n",
       "                hoverTableRow: 'gchart-table-hoverrow',\n",
       "                tableCell: 'gchart-table-cell',\n",
       "                headerCell: 'gchart-table-headercell',\n",
       "                rowNumberCell: 'gchart-table-rownumcell'\n",
       "              }\n",
       "            },\n",
       "            {source_index: 1, fields: 'msno,payment_method_id,payment_plan_days,plan_list_price,actual_amount_paid,is_auto_renew,transaction_date,membership_expire_date,is_cancel'},\n",
       "            0,\n",
       "            21547746);\n",
       "        }\n",
       "      );\n",
       "    </script>\n",
       "  "
      ],
      "text/plain": [
       "BigQuery Table - name: dark-garden-296106.kkbox_bucket.transaction"
      ]
     },
     "execution_count": 12,
     "metadata": {},
     "output_type": "execute_result"
    }
   ],
   "source": [
    "%bq tables view -n dark-garden-296106.kkbox_bucket.transaction"
   ]
  },
  {
   "cell_type": "code",
   "execution_count": 13,
   "metadata": {},
   "outputs": [],
   "source": [
    "%bq query -n Concat\n",
    "INSERT kkbox_bucket.transaction (msno, payment_method_id, payment_plan_days, plan_list_price, actual_amount_paid, \n",
    "  is_auto_renew, transaction_date, membership_expire_date, is_cancel)\n",
    "SELECT msno, payment_method_id, payment_plan_days, plan_list_price, actual_amount_paid, \n",
    "  is_auto_renew, transaction_date, membership_expire_date, is_cancel\n",
    "FROM `dark-garden-296106.kkbox_bucket.transaction2`"
   ]
  },
  {
   "cell_type": "code",
   "execution_count": 14,
   "metadata": {},
   "outputs": [
    {
     "data": {
      "text/html": [
       "\n",
       "    <p>Dry run information:   157MB to process, results not cached</p>\n",
       "    "
      ],
      "text/plain": [
       "<google.datalab.bigquery._query_stats.QueryStats at 0x7f60791c2a20>"
      ]
     },
     "execution_count": 14,
     "metadata": {},
     "output_type": "execute_result"
    }
   ],
   "source": [
    "%bq dryrun -q Concat"
   ]
  },
  {
   "cell_type": "code",
   "execution_count": 15,
   "metadata": {},
   "outputs": [
    {
     "data": {
      "text/html": [
       "\n",
       "    <div class=\"bqtv\" id=\"4_161150927971\"><table><tr><th>msno</th><th>payment_method_id</th><th>payment_plan_days</th><th>plan_list_price</th><th>actual_amount_paid</th><th>is_auto_renew</th><th>transaction_date</th><th>membership_expire_date</th><th>is_cancel</th></tr><tr><td>UWBMGpIq/9wJvjlHpGVVHGzMdjzJ25pqvSrzMeU+ufo=</td><td>41</td><td>30</td><td>149</td><td>149</td><td>1</td><td>20150131</td><td>20150831</td><td>0</td></tr><tr><td>wgB9NmF/8S91uYsy4UVXEHxQCBlueAUpTmWIZj+snM8=</td><td>41</td><td>30</td><td>129</td><td>129</td><td>1</td><td>20161004</td><td>20161004</td><td>1</td></tr><tr><td>Sz7K5F39oeWJ8n40nVhLKoo8y4ABqPExFI8Lc7DwjN8=</td><td>38</td><td>30</td><td>149</td><td>149</td><td>0</td><td>20160619</td><td>20160719</td><td>0</td></tr><tr><td>CK+FHYNFnCsSB+KgShx6X7MDh3yqmjkS61ntLO/e4wc=</td><td>41</td><td>30</td><td>149</td><td>149</td><td>1</td><td>20150126</td><td>20150226</td><td>0</td></tr><tr><td>+CBhSarLsxm1W0hdtRI/MwnfUq2GqI7WumcmPCTROlA=</td><td>36</td><td>30</td><td>180</td><td>180</td><td>1</td><td>20161028</td><td>20161127</td><td>0</td></tr><tr><td>vrLoJXfgbePPROfTG6btXUlC8I+EUut73r5wVfinUz8=</td><td>41</td><td>30</td><td>149</td><td>0</td><td>1</td><td>20151220</td><td>20151220</td><td>1</td></tr><tr><td>u1mbis/8rMvKSa84gNQU95WCTnoPAIJuaZsbjSY17DM=</td><td>41</td><td>30</td><td>129</td><td>129</td><td>1</td><td>20160806</td><td>20161007</td><td>0</td></tr><tr><td>nq50tQ0lkOTnDeNtZ0j32TzRGfg7LMS5rzbIkHxAM0E=</td><td>41</td><td>30</td><td>129</td><td>129</td><td>1</td><td>20160311</td><td>20160411</td><td>0</td></tr><tr><td>/4GH7gzU/YuEcFQEq4age/cKnwnz0fGzLnCUEOIKiBU=</td><td>38</td><td>30</td><td>149</td><td>149</td><td>0</td><td>20160217</td><td>20160318</td><td>0</td></tr><tr><td>8KDbSefw33kR0YwPLUiW130kMpozWWoRDlyNTbJgiQ4=</td><td>38</td><td>30</td><td>149</td><td>149</td><td>0</td><td>20151115</td><td>20151215</td><td>0</td></tr><tr><td>vfCfBENgK+YTfrkAEmMrSpVh7rP88PWHfAXoMSJezBU=</td><td>41</td><td>30</td><td>129</td><td>129</td><td>1</td><td>20160307</td><td>20160407</td><td>0</td></tr><tr><td>1Ih/nkRVpYk5cYKb+KgaVyktW/kFyMd50SI4/IL1gVI=</td><td>41</td><td>30</td><td>99</td><td>99</td><td>1</td><td>20160408</td><td>20160508</td><td>0</td></tr><tr><td>+j4hfXf5EyqvO7I9yPkaQCqJuYbeBMBbBtnu3ct8qhE=</td><td>39</td><td>30</td><td>149</td><td>149</td><td>1</td><td>20161231</td><td>20170203</td><td>0</td></tr><tr><td>RAbEsFAm/qQnv1whYCjkq4+cqcMpS+uFmkvgt7I1BaY=</td><td>41</td><td>30</td><td>99</td><td>99</td><td>1</td><td>20170203</td><td>20170303</td><td>0</td></tr><tr><td>B/KUuF7H6nV+7DWHkyPY2cI5FsRIMV7ty/R3nrNLgHc=</td><td>41</td><td>30</td><td>99</td><td>99</td><td>1</td><td>20160721</td><td>20160821</td><td>0</td></tr><tr><td>5ykrjoTvEJrEWj9YMs614fISmcDl02U0+AOi41RqIRw=</td><td>41</td><td>30</td><td>149</td><td>0</td><td>1</td><td>20160807</td><td>20160907</td><td>0</td></tr><tr><td>4Xs/tb5vXg+kNx9buYQ2MkkaIr7FwF7cujs8jaHQ4NI=</td><td>41</td><td>30</td><td>149</td><td>119</td><td>1</td><td>20150606</td><td>20150706</td><td>0</td></tr><tr><td>BzisqksD8W82HO8TBMnrpglR19mo+abjzkIJb9/NjZw=</td><td>41</td><td>30</td><td>129</td><td>129</td><td>1</td><td>20150604</td><td>20150704</td><td>0</td></tr><tr><td>hJlk46eOpx/DFh8CcPy9+cAu95lLC8kAVBAOsde/EQ0=</td><td>41</td><td>30</td><td>149</td><td>149</td><td>1</td><td>20150403</td><td>20150403</td><td>1</td></tr><tr><td>mx3S7YE5wjoIZg/xAK9Ib3F7Y9pnW27SCiThAanawno=</td><td>40</td><td>30</td><td>149</td><td>149</td><td>1</td><td>20170210</td><td>20170309</td><td>0</td></tr><tr><td>NKyAo8OwoA1q0iHARYKhsI+TqDIKQ2HD5XlA64Yaweo=</td><td>41</td><td>30</td><td>149</td><td>149</td><td>1</td><td>20150610</td><td>20150710</td><td>0</td></tr><tr><td>Sp9dYbqhN6ImqWQf1fY2w8ty7qzC+5BRMXPvFcktA0U=</td><td>41</td><td>30</td><td>149</td><td>149</td><td>1</td><td>20150514</td><td>20150615</td><td>0</td></tr><tr><td>3LhNwMCkLqi1qZkcU/xF2dCAaKvBvXkFTW5nkLPSZic=</td><td>38</td><td>30</td><td>149</td><td>149</td><td>0</td><td>20150327</td><td>20150426</td><td>0</td></tr><tr><td>0aSR6e4gcpewSQBO8eZrB4KhDxnNOw85RhFspKhxIK4=</td><td>35</td><td>7</td><td>0</td><td>0</td><td>0</td><td>20150608</td><td>20150615</td><td>0</td></tr><tr><td>69FXv4a4CnqXJtB98KgyvDe2XR2ldF3LcqsfQggjVT8=</td><td>40</td><td>30</td><td>149</td><td>149</td><td>1</td><td>20160603</td><td>20160703</td><td>0</td></tr></table></div>\n",
       "    <br />(rows: 22978755, time: 10.6s,   157MB processed, job: job_tQGmlMVJYlh5YOiRjoM6J1A2BX-u)<br />\n",
       "    <script src=\"/static/components/requirejs/require.js\"></script>\n",
       "    <script>\n",
       "      require.config({\n",
       "        paths: {\n",
       "          base: '/static/base',\n",
       "          d3: '//cdnjs.cloudflare.com/ajax/libs/d3/3.4.13/d3',\n",
       "          plotly: 'https://cdn.plot.ly/plotly-1.5.1.min.js?noext',\n",
       "          jquery: '//ajax.googleapis.com/ajax/libs/jquery/2.0.0/jquery.min'\n",
       "        },\n",
       "        map: {\n",
       "          '*': {\n",
       "            datalab: 'nbextensions/gcpdatalab'\n",
       "          }\n",
       "        },\n",
       "        shim: {\n",
       "          plotly: {\n",
       "            deps: ['d3', 'jquery'],\n",
       "            exports: 'plotly'\n",
       "          }\n",
       "        }\n",
       "      });\n",
       "\n",
       "      require(['datalab/charting', 'datalab/element!4_161150927971', 'base/js/events',\n",
       "          'datalab/style!/nbextensions/gcpdatalab/charting.css'],\n",
       "        function(charts, dom, events) {\n",
       "          charts.render('gcharts', dom, events, 'paged_table', [], {\"rows\": [{\"c\": [{\"v\": \"UWBMGpIq/9wJvjlHpGVVHGzMdjzJ25pqvSrzMeU+ufo=\"}, {\"v\": 41}, {\"v\": 30}, {\"v\": 149}, {\"v\": 149}, {\"v\": 1}, {\"v\": 20150131}, {\"v\": 20150831}, {\"v\": 0}]}, {\"c\": [{\"v\": \"wgB9NmF/8S91uYsy4UVXEHxQCBlueAUpTmWIZj+snM8=\"}, {\"v\": 41}, {\"v\": 30}, {\"v\": 129}, {\"v\": 129}, {\"v\": 1}, {\"v\": 20161004}, {\"v\": 20161004}, {\"v\": 1}]}, {\"c\": [{\"v\": \"Sz7K5F39oeWJ8n40nVhLKoo8y4ABqPExFI8Lc7DwjN8=\"}, {\"v\": 38}, {\"v\": 30}, {\"v\": 149}, {\"v\": 149}, {\"v\": 0}, {\"v\": 20160619}, {\"v\": 20160719}, {\"v\": 0}]}, {\"c\": [{\"v\": \"CK+FHYNFnCsSB+KgShx6X7MDh3yqmjkS61ntLO/e4wc=\"}, {\"v\": 41}, {\"v\": 30}, {\"v\": 149}, {\"v\": 149}, {\"v\": 1}, {\"v\": 20150126}, {\"v\": 20150226}, {\"v\": 0}]}, {\"c\": [{\"v\": \"+CBhSarLsxm1W0hdtRI/MwnfUq2GqI7WumcmPCTROlA=\"}, {\"v\": 36}, {\"v\": 30}, {\"v\": 180}, {\"v\": 180}, {\"v\": 1}, {\"v\": 20161028}, {\"v\": 20161127}, {\"v\": 0}]}, {\"c\": [{\"v\": \"vrLoJXfgbePPROfTG6btXUlC8I+EUut73r5wVfinUz8=\"}, {\"v\": 41}, {\"v\": 30}, {\"v\": 149}, {\"v\": 0}, {\"v\": 1}, {\"v\": 20151220}, {\"v\": 20151220}, {\"v\": 1}]}, {\"c\": [{\"v\": \"u1mbis/8rMvKSa84gNQU95WCTnoPAIJuaZsbjSY17DM=\"}, {\"v\": 41}, {\"v\": 30}, {\"v\": 129}, {\"v\": 129}, {\"v\": 1}, {\"v\": 20160806}, {\"v\": 20161007}, {\"v\": 0}]}, {\"c\": [{\"v\": \"nq50tQ0lkOTnDeNtZ0j32TzRGfg7LMS5rzbIkHxAM0E=\"}, {\"v\": 41}, {\"v\": 30}, {\"v\": 129}, {\"v\": 129}, {\"v\": 1}, {\"v\": 20160311}, {\"v\": 20160411}, {\"v\": 0}]}, {\"c\": [{\"v\": \"/4GH7gzU/YuEcFQEq4age/cKnwnz0fGzLnCUEOIKiBU=\"}, {\"v\": 38}, {\"v\": 30}, {\"v\": 149}, {\"v\": 149}, {\"v\": 0}, {\"v\": 20160217}, {\"v\": 20160318}, {\"v\": 0}]}, {\"c\": [{\"v\": \"8KDbSefw33kR0YwPLUiW130kMpozWWoRDlyNTbJgiQ4=\"}, {\"v\": 38}, {\"v\": 30}, {\"v\": 149}, {\"v\": 149}, {\"v\": 0}, {\"v\": 20151115}, {\"v\": 20151215}, {\"v\": 0}]}, {\"c\": [{\"v\": \"vfCfBENgK+YTfrkAEmMrSpVh7rP88PWHfAXoMSJezBU=\"}, {\"v\": 41}, {\"v\": 30}, {\"v\": 129}, {\"v\": 129}, {\"v\": 1}, {\"v\": 20160307}, {\"v\": 20160407}, {\"v\": 0}]}, {\"c\": [{\"v\": \"1Ih/nkRVpYk5cYKb+KgaVyktW/kFyMd50SI4/IL1gVI=\"}, {\"v\": 41}, {\"v\": 30}, {\"v\": 99}, {\"v\": 99}, {\"v\": 1}, {\"v\": 20160408}, {\"v\": 20160508}, {\"v\": 0}]}, {\"c\": [{\"v\": \"+j4hfXf5EyqvO7I9yPkaQCqJuYbeBMBbBtnu3ct8qhE=\"}, {\"v\": 39}, {\"v\": 30}, {\"v\": 149}, {\"v\": 149}, {\"v\": 1}, {\"v\": 20161231}, {\"v\": 20170203}, {\"v\": 0}]}, {\"c\": [{\"v\": \"RAbEsFAm/qQnv1whYCjkq4+cqcMpS+uFmkvgt7I1BaY=\"}, {\"v\": 41}, {\"v\": 30}, {\"v\": 99}, {\"v\": 99}, {\"v\": 1}, {\"v\": 20170203}, {\"v\": 20170303}, {\"v\": 0}]}, {\"c\": [{\"v\": \"B/KUuF7H6nV+7DWHkyPY2cI5FsRIMV7ty/R3nrNLgHc=\"}, {\"v\": 41}, {\"v\": 30}, {\"v\": 99}, {\"v\": 99}, {\"v\": 1}, {\"v\": 20160721}, {\"v\": 20160821}, {\"v\": 0}]}, {\"c\": [{\"v\": \"5ykrjoTvEJrEWj9YMs614fISmcDl02U0+AOi41RqIRw=\"}, {\"v\": 41}, {\"v\": 30}, {\"v\": 149}, {\"v\": 0}, {\"v\": 1}, {\"v\": 20160807}, {\"v\": 20160907}, {\"v\": 0}]}, {\"c\": [{\"v\": \"4Xs/tb5vXg+kNx9buYQ2MkkaIr7FwF7cujs8jaHQ4NI=\"}, {\"v\": 41}, {\"v\": 30}, {\"v\": 149}, {\"v\": 119}, {\"v\": 1}, {\"v\": 20150606}, {\"v\": 20150706}, {\"v\": 0}]}, {\"c\": [{\"v\": \"BzisqksD8W82HO8TBMnrpglR19mo+abjzkIJb9/NjZw=\"}, {\"v\": 41}, {\"v\": 30}, {\"v\": 129}, {\"v\": 129}, {\"v\": 1}, {\"v\": 20150604}, {\"v\": 20150704}, {\"v\": 0}]}, {\"c\": [{\"v\": \"hJlk46eOpx/DFh8CcPy9+cAu95lLC8kAVBAOsde/EQ0=\"}, {\"v\": 41}, {\"v\": 30}, {\"v\": 149}, {\"v\": 149}, {\"v\": 1}, {\"v\": 20150403}, {\"v\": 20150403}, {\"v\": 1}]}, {\"c\": [{\"v\": \"mx3S7YE5wjoIZg/xAK9Ib3F7Y9pnW27SCiThAanawno=\"}, {\"v\": 40}, {\"v\": 30}, {\"v\": 149}, {\"v\": 149}, {\"v\": 1}, {\"v\": 20170210}, {\"v\": 20170309}, {\"v\": 0}]}, {\"c\": [{\"v\": \"NKyAo8OwoA1q0iHARYKhsI+TqDIKQ2HD5XlA64Yaweo=\"}, {\"v\": 41}, {\"v\": 30}, {\"v\": 149}, {\"v\": 149}, {\"v\": 1}, {\"v\": 20150610}, {\"v\": 20150710}, {\"v\": 0}]}, {\"c\": [{\"v\": \"Sp9dYbqhN6ImqWQf1fY2w8ty7qzC+5BRMXPvFcktA0U=\"}, {\"v\": 41}, {\"v\": 30}, {\"v\": 149}, {\"v\": 149}, {\"v\": 1}, {\"v\": 20150514}, {\"v\": 20150615}, {\"v\": 0}]}, {\"c\": [{\"v\": \"3LhNwMCkLqi1qZkcU/xF2dCAaKvBvXkFTW5nkLPSZic=\"}, {\"v\": 38}, {\"v\": 30}, {\"v\": 149}, {\"v\": 149}, {\"v\": 0}, {\"v\": 20150327}, {\"v\": 20150426}, {\"v\": 0}]}, {\"c\": [{\"v\": \"0aSR6e4gcpewSQBO8eZrB4KhDxnNOw85RhFspKhxIK4=\"}, {\"v\": 35}, {\"v\": 7}, {\"v\": 0}, {\"v\": 0}, {\"v\": 0}, {\"v\": 20150608}, {\"v\": 20150615}, {\"v\": 0}]}, {\"c\": [{\"v\": \"69FXv4a4CnqXJtB98KgyvDe2XR2ldF3LcqsfQggjVT8=\"}, {\"v\": 40}, {\"v\": 30}, {\"v\": 149}, {\"v\": 149}, {\"v\": 1}, {\"v\": 20160603}, {\"v\": 20160703}, {\"v\": 0}]}], \"cols\": [{\"type\": \"string\", \"label\": \"msno\", \"id\": \"msno\"}, {\"type\": \"number\", \"label\": \"payment_method_id\", \"id\": \"payment_method_id\"}, {\"type\": \"number\", \"label\": \"payment_plan_days\", \"id\": \"payment_plan_days\"}, {\"type\": \"number\", \"label\": \"plan_list_price\", \"id\": \"plan_list_price\"}, {\"type\": \"number\", \"label\": \"actual_amount_paid\", \"id\": \"actual_amount_paid\"}, {\"type\": \"number\", \"label\": \"is_auto_renew\", \"id\": \"is_auto_renew\"}, {\"type\": \"number\", \"label\": \"transaction_date\", \"id\": \"transaction_date\"}, {\"type\": \"number\", \"label\": \"membership_expire_date\", \"id\": \"membership_expire_date\"}, {\"type\": \"number\", \"label\": \"is_cancel\", \"id\": \"is_cancel\"}]},\n",
       "            {\n",
       "              pageSize: 25,\n",
       "              cssClassNames:  {\n",
       "                tableRow: 'gchart-table-row',\n",
       "                headerRow: 'gchart-table-headerrow',\n",
       "                oddTableRow: 'gchart-table-oddrow',\n",
       "                selectedTableRow: 'gchart-table-selectedrow',\n",
       "                hoverTableRow: 'gchart-table-hoverrow',\n",
       "                tableCell: 'gchart-table-cell',\n",
       "                headerCell: 'gchart-table-headercell',\n",
       "                rowNumberCell: 'gchart-table-rownumcell'\n",
       "              }\n",
       "            },\n",
       "            {source_index: 1, fields: 'msno,payment_method_id,payment_plan_days,plan_list_price,actual_amount_paid,is_auto_renew,transaction_date,membership_expire_date,is_cancel'},\n",
       "            0,\n",
       "            22978755);\n",
       "        }\n",
       "      );\n",
       "    </script>\n",
       "  "
      ],
      "text/plain": [
       "QueryResultsTable job_tQGmlMVJYlh5YOiRjoM6J1A2BX-u"
      ]
     },
     "execution_count": 15,
     "metadata": {},
     "output_type": "execute_result"
    }
   ],
   "source": [
    "%bq execute -q Concat"
   ]
  },
  {
   "cell_type": "code",
   "execution_count": 16,
   "metadata": {},
   "outputs": [],
   "source": [
    "_ = bq.Table(\"kkbox_bucket.transaction2\").delete()"
   ]
  },
  {
   "cell_type": "code",
   "execution_count": 17,
   "metadata": {},
   "outputs": [
    {
     "data": {
      "text/html": [
       "<ul><li>dark-garden-296106.kkbox_bucket.members</li><li>dark-garden-296106.kkbox_bucket.submission</li><li>dark-garden-296106.kkbox_bucket.submission2</li><li>dark-garden-296106.kkbox_bucket.train</li><li>dark-garden-296106.kkbox_bucket.transaction</li><li>dark-garden-296106.kkbox_bucket.user_label</li><li>dark-garden-296106.kkbox_bucket.user_label2</li><li>dark-garden-296106.kkbox_bucket.user_logs</li></ul>"
      ],
      "text/plain": [
       "<IPython.core.display.HTML object>"
      ]
     },
     "execution_count": 17,
     "metadata": {},
     "output_type": "execute_result"
    }
   ],
   "source": [
    "%bq tables list "
   ]
  },
  {
   "cell_type": "markdown",
   "metadata": {},
   "source": [
    "## Reference\n",
    " * [BigQuery Data Manipulation Language Syntax](https://cloud.google.com/bigquery/docs/reference/standard-sql/dml-syntax)\n",
    " * [Google BigQuery Documentation](https://googledatalab.github.io/pydatalab/google.datalab.bigquery.html)\n",
    " * [Official Github Notebook Examples](https://github.com/googledatalab/notebooks)\n"
   ]
  }
 ],
 "metadata": {
  "kernelspec": {
   "display_name": "Python 3",
   "language": "python",
   "name": "python3"
  },
  "language_info": {
   "codemirror_mode": {
    "name": "ipython",
    "version": 3
   },
   "file_extension": ".py",
   "mimetype": "text/x-python",
   "name": "python",
   "nbconvert_exporter": "python",
   "pygments_lexer": "ipython3",
   "version": "3.5.6"
  }
 },
 "nbformat": 4,
 "nbformat_minor": 2
}
