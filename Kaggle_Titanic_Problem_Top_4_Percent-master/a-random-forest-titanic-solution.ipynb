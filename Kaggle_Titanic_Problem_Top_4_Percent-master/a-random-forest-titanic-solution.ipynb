{
 "cells": [
  {
   "cell_type": "code",
   "execution_count": 1,
   "metadata": {
    "ExecuteTime": {
     "end_time": "2018-06-17T05:37:28.532759Z",
     "start_time": "2018-06-17T05:37:22.541171Z"
    },
    "_cell_guid": "d95a4c4a-bda6-4591-8632-a1c552448fa7",
    "_uuid": "31e513c2-9a17-46f1-b6e0-acb166df2356",
    "execution": {
     "iopub.execute_input": "2020-10-06T15:37:53.762604Z",
     "iopub.status.busy": "2020-10-06T15:37:53.758854Z",
     "iopub.status.idle": "2020-10-06T15:37:55.361821Z",
     "shell.execute_reply": "2020-10-06T15:37:55.360976Z"
    },
    "papermill": {
     "duration": 1.64799,
     "end_time": "2020-10-06T15:37:55.361956",
     "exception": false,
     "start_time": "2020-10-06T15:37:53.713966",
     "status": "completed"
    },
    "tags": []
   },
   "outputs": [],
   "source": [
    "# loading package\n",
    "import numpy as np \n",
    "import pandas as pd\n",
    "import matplotlib.pyplot as plt \n",
    "import seaborn as sns \n",
    "%matplotlib inline\n",
    "sns.set(font_scale=1.56)\n",
    "from sklearn.ensemble import RandomForestClassifier\n",
    "from sklearn.model_selection import cross_val_score, StratifiedKFold, learning_curve, train_test_split\n",
    "from sklearn.preprocessing import LabelEncoder\n",
    "from sklearn.feature_selection import RFECV\n",
    "# loading data\n",
    "df_train = pd.read_csv('/kaggle/input/titanic/train.csv')\n",
    "df_test = pd.read_csv('/kaggle/input/titanic/test.csv')\n",
    "df_data = df_train.append(df_test)\n",
    "# for display dataframe\n",
    "from IPython.display import display\n",
    "from IPython.display import display_html\n",
    "def display_side_by_side(*args):\n",
    "    html_str=''\n",
    "    for df in args:\n",
    "        html_str+=df.to_html()\n",
    "    display_html(html_str.replace('table','table style=\"display:inline\"'),raw=True)\n",
    "# ignore warning\n",
    "import warnings\n",
    "warnings.filterwarnings(\"ignore\")"
   ]
  },
  {
   "cell_type": "code",
   "execution_count": 2,
   "metadata": {
    "ExecuteTime": {
     "end_time": "2018-06-17T05:37:29.82003Z",
     "start_time": "2018-06-17T05:37:29.478226Z"
    },
    "_cell_guid": "54b127b5-6fc2-436f-8852-4559688de5ca",
    "_uuid": "03bfb5f5-3bc9-445f-bc42-d90d7db9a513",
    "execution": {
     "iopub.execute_input": "2020-10-06T15:37:55.436237Z",
     "iopub.status.busy": "2020-10-06T15:37:55.435431Z",
     "iopub.status.idle": "2020-10-06T15:37:55.727416Z",
     "shell.execute_reply": "2020-10-06T15:37:55.726766Z"
    },
    "papermill": {
     "duration": 0.33695,
     "end_time": "2020-10-06T15:37:55.727534",
     "exception": false,
     "start_time": "2020-10-06T15:37:55.390584",
     "status": "completed"
    },
    "tags": []
   },
   "outputs": [
    {
     "data": {
      "text/html": [
       "<div>\n",
       "<style scoped>\n",
       "    .dataframe tbody tr th:only-of-type {\n",
       "        vertical-align: middle;\n",
       "    }\n",
       "\n",
       "    .dataframe tbody tr th {\n",
       "        vertical-align: top;\n",
       "    }\n",
       "\n",
       "    .dataframe thead th {\n",
       "        text-align: right;\n",
       "    }\n",
       "</style>\n",
       "<table border=\"1\" class=\"dataframe\">\n",
       "  <thead>\n",
       "    <tr style=\"text-align: right;\">\n",
       "      <th></th>\n",
       "      <th>Sex</th>\n",
       "      <th>Survived</th>\n",
       "    </tr>\n",
       "  </thead>\n",
       "  <tbody>\n",
       "    <tr>\n",
       "      <th>0</th>\n",
       "      <td>female</td>\n",
       "      <td>0.742</td>\n",
       "    </tr>\n",
       "    <tr>\n",
       "      <th>1</th>\n",
       "      <td>male</td>\n",
       "      <td>0.189</td>\n",
       "    </tr>\n",
       "  </tbody>\n",
       "</table>\n",
       "</div>"
      ],
      "text/plain": [
       "      Sex  Survived\n",
       "0  female     0.742\n",
       "1    male     0.189"
      ]
     },
     "metadata": {},
     "output_type": "display_data"
    },
    {
     "data": {
      "image/png": "[encoded data removed]",
      "text/plain": [
       "<Figure size 432x288 with 1 Axes>"
      ]
     },
     "metadata": {},
     "output_type": "display_data"
    }
   ],
   "source": [
    "sns.countplot(df_data['Sex'], hue=df_data['Survived'])\n",
    "display(df_data[[\"Sex\", \"Survived\"]].groupby(['Sex'], as_index=False).mean().round(3))"
   ]
  },
  {
   "cell_type": "code",
   "execution_count": 3,
   "metadata": {
    "ExecuteTime": {
     "end_time": "2018-06-17T05:37:33.437222Z",
     "start_time": "2018-06-17T05:37:33.126402Z"
    },
    "_cell_guid": "5ae4fc73-f2c1-4e5f-befd-9c5232808e87",
    "_uuid": "62feffa2-a450-4f69-88ff-17260d9ae36b",
    "execution": {
     "iopub.execute_input": "2020-10-06T15:37:55.798751Z",
     "iopub.status.busy": "2020-10-06T15:37:55.796688Z",
     "iopub.status.idle": "2020-10-06T15:37:56.001002Z",
     "shell.execute_reply": "2020-10-06T15:37:56.000257Z"
    },
    "papermill": {
     "duration": 0.242227,
     "end_time": "2020-10-06T15:37:56.001124",
     "exception": false,
     "start_time": "2020-10-06T15:37:55.758897",
     "status": "completed"
    },
    "tags": []
   },
   "outputs": [
    {
     "data": {
      "text/html": [
       "<div>\n",
       "<style scoped>\n",
       "    .dataframe tbody tr th:only-of-type {\n",
       "        vertical-align: middle;\n",
       "    }\n",
       "\n",
       "    .dataframe tbody tr th {\n",
       "        vertical-align: top;\n",
       "    }\n",
       "\n",
       "    .dataframe thead th {\n",
       "        text-align: right;\n",
       "    }\n",
       "</style>\n",
       "<table border=\"1\" class=\"dataframe\">\n",
       "  <thead>\n",
       "    <tr style=\"text-align: right;\">\n",
       "      <th></th>\n",
       "      <th>Pclass</th>\n",
       "      <th>Survived</th>\n",
       "    </tr>\n",
       "  </thead>\n",
       "  <tbody>\n",
       "    <tr>\n",
       "      <th>0</th>\n",
       "      <td>1</td>\n",
       "      <td>0.630</td>\n",
       "    </tr>\n",
       "    <tr>\n",
       "      <th>1</th>\n",
       "      <td>2</td>\n",
       "      <td>0.473</td>\n",
       "    </tr>\n",
       "    <tr>\n",
       "      <th>2</th>\n",
       "      <td>3</td>\n",
       "      <td>0.242</td>\n",
       "    </tr>\n",
       "  </tbody>\n",
       "</table>\n",
       "</div>"
      ],
      "text/plain": [
       "   Pclass  Survived\n",
       "0       1     0.630\n",
       "1       2     0.473\n",
       "2       3     0.242"
      ]
     },
     "execution_count": 3,
     "metadata": {},
     "output_type": "execute_result"
    },
    {
     "data": {
      "image/png": "[encoded data removed]",
      "text/plain": [
       "<Figure size 432x288 with 1 Axes>"
      ]
     },
     "metadata": {},
     "output_type": "display_data"
    }
   ],
   "source": [
    "sns.countplot(df_data['Pclass'], hue=df_data['Survived'])\n",
    "df_data[[\"Pclass\", \"Survived\"]].groupby(['Pclass'], as_index=False).mean().round(3)"
   ]
  },
  {
   "cell_type": "code",
   "execution_count": 4,
   "metadata": {
    "ExecuteTime": {
     "end_time": "2018-06-17T05:37:35.391105Z",
     "start_time": "2018-06-17T05:37:35.381112Z"
    },
    "_cell_guid": "30e21bac-1cfd-41e1-8cda-e9e35b5f6078",
    "_uuid": "2268f913-1cf2-41db-9402-b91798872bb5",
    "execution": {
     "iopub.execute_input": "2020-10-06T15:37:56.073647Z",
     "iopub.status.busy": "2020-10-06T15:37:56.072855Z",
     "iopub.status.idle": "2020-10-06T15:37:56.076289Z",
     "shell.execute_reply": "2020-10-06T15:37:56.075675Z"
    },
    "papermill": {
     "duration": 0.042616,
     "end_time": "2020-10-06T15:37:56.076407",
     "exception": false,
     "start_time": "2020-10-06T15:37:56.033791",
     "status": "completed"
    },
    "tags": []
   },
   "outputs": [],
   "source": [
    "# Convert Sex\n",
    "df_data['Sex_Code'] = df_data['Sex'].map({'female' : 1, 'male' : 0}).astype('int')"
   ]
  },
  {
   "cell_type": "code",
   "execution_count": 5,
   "metadata": {
    "ExecuteTime": {
     "end_time": "2018-06-17T05:37:36.76838Z",
     "start_time": "2018-06-17T05:37:36.762383Z"
    },
    "_cell_guid": "2928897b-6c22-479b-8962-c3f12593f028",
    "_uuid": "82bcc015-2ade-4426-a007-857722fa0a6c",
    "execution": {
     "iopub.execute_input": "2020-10-06T15:37:56.146237Z",
     "iopub.status.busy": "2020-10-06T15:37:56.145211Z",
     "iopub.status.idle": "2020-10-06T15:37:56.148636Z",
     "shell.execute_reply": "2020-10-06T15:37:56.147890Z"
    },
    "papermill": {
     "duration": 0.040679,
     "end_time": "2020-10-06T15:37:56.148759",
     "exception": false,
     "start_time": "2020-10-06T15:37:56.108080",
     "status": "completed"
    },
    "tags": []
   },
   "outputs": [],
   "source": [
    "# split training set the testing set\n",
    "df_train = df_data[:len(df_train)]\n",
    "df_test = df_data[len(df_train):]"
   ]
  },
  {
   "cell_type": "code",
   "execution_count": 6,
   "metadata": {
    "ExecuteTime": {
     "end_time": "2018-06-17T05:37:38.347546Z",
     "start_time": "2018-06-17T05:37:38.340544Z"
    },
    "_cell_guid": "d34002bb-3a30-4945-a470-ee855a55bb75",
    "_uuid": "46165d4c-d141-4d76-bcd2-2252e81ff704",
    "execution": {
     "iopub.execute_input": "2020-10-06T15:37:56.221292Z",
     "iopub.status.busy": "2020-10-06T15:37:56.219900Z",
     "iopub.status.idle": "2020-10-06T15:37:56.224734Z",
     "shell.execute_reply": "2020-10-06T15:37:56.224071Z"
    },
    "papermill": {
     "duration": 0.043328,
     "end_time": "2020-10-06T15:37:56.224857",
     "exception": false,
     "start_time": "2020-10-06T15:37:56.181529",
     "status": "completed"
    },
    "tags": []
   },
   "outputs": [],
   "source": [
    "# Inputs set and labels\n",
    "X = df_train.drop(labels=['Survived','PassengerId'],axis=1)\n",
    "Y = df_train['Survived']"
   ]
  },
  {
   "cell_type": "code",
   "execution_count": 7,
   "metadata": {
    "ExecuteTime": {
     "end_time": "2018-06-17T05:37:45.387774Z",
     "start_time": "2018-06-17T05:37:44.765146Z"
    },
    "_cell_guid": "24cb13a6-37b8-457a-9f74-008ee860ff6e",
    "_uuid": "ac4d934a-5daf-47b6-980f-2bfa7cff05d1",
    "execution": {
     "iopub.execute_input": "2020-10-06T15:37:56.381314Z",
     "iopub.status.busy": "2020-10-06T15:37:56.299336Z",
     "iopub.status.idle": "2020-10-06T15:37:56.883106Z",
     "shell.execute_reply": "2020-10-06T15:37:56.883740Z"
    },
    "papermill": {
     "duration": 0.626119,
     "end_time": "2020-10-06T15:37:56.883923",
     "exception": false,
     "start_time": "2020-10-06T15:37:56.257804",
     "status": "completed"
    },
    "tags": []
   },
   "outputs": [
    {
     "data": {
      "text/html": [
       "<div>\n",
       "<style scoped>\n",
       "    .dataframe tbody tr th:only-of-type {\n",
       "        vertical-align: middle;\n",
       "    }\n",
       "\n",
       "    .dataframe tbody tr th {\n",
       "        vertical-align: top;\n",
       "    }\n",
       "\n",
       "    .dataframe thead tr th {\n",
       "        text-align: left;\n",
       "    }\n",
       "\n",
       "    .dataframe thead tr:last-of-type th {\n",
       "        text-align: right;\n",
       "    }\n",
       "</style>\n",
       "<table border=\"1\" class=\"dataframe\">\n",
       "  <thead>\n",
       "    <tr>\n",
       "      <th></th>\n",
       "      <th colspan=\"2\" halign=\"left\">Fare</th>\n",
       "    </tr>\n",
       "    <tr>\n",
       "      <th>Survived</th>\n",
       "      <th>0.0</th>\n",
       "      <th>1.0</th>\n",
       "    </tr>\n",
       "    <tr>\n",
       "      <th>Pclass</th>\n",
       "      <th></th>\n",
       "      <th></th>\n",
       "    </tr>\n",
       "  </thead>\n",
       "  <tbody>\n",
       "    <tr>\n",
       "      <th>1</th>\n",
       "      <td>44.75</td>\n",
       "      <td>77.958</td>\n",
       "    </tr>\n",
       "    <tr>\n",
       "      <th>2</th>\n",
       "      <td>13.00</td>\n",
       "      <td>21.000</td>\n",
       "    </tr>\n",
       "    <tr>\n",
       "      <th>3</th>\n",
       "      <td>8.05</td>\n",
       "      <td>8.517</td>\n",
       "    </tr>\n",
       "  </tbody>\n",
       "</table>\n",
       "</div>"
      ],
      "text/plain": [
       "           Fare        \n",
       "Survived    0.0     1.0\n",
       "Pclass                 \n",
       "1         44.75  77.958\n",
       "2         13.00  21.000\n",
       "3          8.05   8.517"
      ]
     },
     "execution_count": 7,
     "metadata": {},
     "output_type": "execute_result"
    },
    {
     "data": {
      "image/png": "[encoded data removed]",
      "text/plain": [
       "<Figure size 1296x504 with 1 Axes>"
      ]
     },
     "metadata": {},
     "output_type": "display_data"
    }
   ],
   "source": [
    "# there is some bugs in log-scale of boxplot. \n",
    "# alternatively, we transform x into log10(x) for visualization.\n",
    "fig, ax = plt.subplots( figsize = (18,7) )\n",
    "df_data['Log_Fare'] = (df_data['Fare']+1).map(lambda x : np.log10(x) if x > 0 else 0)\n",
    "sns.boxplot(y='Pclass', x='Log_Fare',hue='Survived',data=df_data, orient='h'\n",
    "                ,ax=ax,palette=\"Set3\")\n",
    "ax.set_title(' Log_Fare & Pclass vs Survived ',fontsize = 20)\n",
    "pd.pivot_table(df_data,values = ['Fare'], index = ['Pclass'], columns= ['Survived'] ,aggfunc = 'median' ).round(3)"
   ]
  },
  {
   "cell_type": "code",
   "execution_count": 8,
   "metadata": {
    "ExecuteTime": {
     "end_time": "2018-06-17T05:37:48.918806Z",
     "start_time": "2018-06-17T05:37:47.243765Z"
    },
    "_cell_guid": "fb5b8c09-0a3c-4033-adb7-8cb031566c40",
    "_uuid": "00633197-7448-477c-ba7d-dda13cf63550",
    "execution": {
     "iopub.execute_input": "2020-10-06T15:37:56.978880Z",
     "iopub.status.busy": "2020-10-06T15:37:56.971614Z",
     "iopub.status.idle": "2020-10-06T15:37:59.112645Z",
     "shell.execute_reply": "2020-10-06T15:37:59.111776Z"
    },
    "papermill": {
     "duration": 2.194554,
     "end_time": "2020-10-06T15:37:59.112789",
     "exception": false,
     "start_time": "2020-10-06T15:37:56.918235",
     "status": "completed"
    },
    "tags": []
   },
   "outputs": [
    {
     "data": {
      "text/html": [
       "<table style=\"display:inline\" border=\"1\" class=\"dataframe\">\n",
       "  <thead>\n",
       "    <tr style=\"text-align: right;\">\n",
       "      <th>Pclass</th>\n",
       "      <th>1</th>\n",
       "      <th>2</th>\n",
       "      <th>3</th>\n",
       "    </tr>\n",
       "    <tr>\n",
       "      <th>FareBin_Code_4</th>\n",
       "      <th></th>\n",
       "      <th></th>\n",
       "      <th></th>\n",
       "    </tr>\n",
       "  </thead>\n",
       "  <tbody>\n",
       "    <tr>\n",
       "      <th>0</th>\n",
       "      <td>8</td>\n",
       "      <td>6</td>\n",
       "      <td>323</td>\n",
       "    </tr>\n",
       "    <tr>\n",
       "      <th>1</th>\n",
       "      <td>0</td>\n",
       "      <td>128</td>\n",
       "      <td>193</td>\n",
       "    </tr>\n",
       "    <tr>\n",
       "      <th>2</th>\n",
       "      <td>77</td>\n",
       "      <td>104</td>\n",
       "      <td>147</td>\n",
       "    </tr>\n",
       "    <tr>\n",
       "      <th>3</th>\n",
       "      <td>238</td>\n",
       "      <td>39</td>\n",
       "      <td>46</td>\n",
       "    </tr>\n",
       "  </tbody>\n",
       "</table style=\"display:inline\"><table style=\"display:inline\" border=\"1\" class=\"dataframe\">\n",
       "  <thead>\n",
       "    <tr style=\"text-align: right;\">\n",
       "      <th>Pclass</th>\n",
       "      <th>1</th>\n",
       "      <th>2</th>\n",
       "      <th>3</th>\n",
       "    </tr>\n",
       "    <tr>\n",
       "      <th>FareBin_Code_5</th>\n",
       "      <th></th>\n",
       "      <th></th>\n",
       "      <th></th>\n",
       "    </tr>\n",
       "  </thead>\n",
       "  <tbody>\n",
       "    <tr>\n",
       "      <th>0</th>\n",
       "      <td>8</td>\n",
       "      <td>6</td>\n",
       "      <td>261</td>\n",
       "    </tr>\n",
       "    <tr>\n",
       "      <th>1</th>\n",
       "      <td>0</td>\n",
       "      <td>36</td>\n",
       "      <td>218</td>\n",
       "    </tr>\n",
       "    <tr>\n",
       "      <th>2</th>\n",
       "      <td>0</td>\n",
       "      <td>124</td>\n",
       "      <td>132</td>\n",
       "    </tr>\n",
       "    <tr>\n",
       "      <th>3</th>\n",
       "      <td>95</td>\n",
       "      <td>99</td>\n",
       "      <td>71</td>\n",
       "    </tr>\n",
       "    <tr>\n",
       "      <th>4</th>\n",
       "      <td>220</td>\n",
       "      <td>12</td>\n",
       "      <td>27</td>\n",
       "    </tr>\n",
       "  </tbody>\n",
       "</table style=\"display:inline\"><table style=\"display:inline\" border=\"1\" class=\"dataframe\">\n",
       "  <thead>\n",
       "    <tr style=\"text-align: right;\">\n",
       "      <th>Pclass</th>\n",
       "      <th>1</th>\n",
       "      <th>2</th>\n",
       "      <th>3</th>\n",
       "    </tr>\n",
       "    <tr>\n",
       "      <th>FareBin_Code_6</th>\n",
       "      <th></th>\n",
       "      <th></th>\n",
       "      <th></th>\n",
       "    </tr>\n",
       "  </thead>\n",
       "  <tbody>\n",
       "    <tr>\n",
       "      <th>0</th>\n",
       "      <td>8</td>\n",
       "      <td>6</td>\n",
       "      <td>222</td>\n",
       "    </tr>\n",
       "    <tr>\n",
       "      <th>1</th>\n",
       "      <td>0</td>\n",
       "      <td>0</td>\n",
       "      <td>218</td>\n",
       "    </tr>\n",
       "    <tr>\n",
       "      <th>2</th>\n",
       "      <td>0</td>\n",
       "      <td>128</td>\n",
       "      <td>76</td>\n",
       "    </tr>\n",
       "    <tr>\n",
       "      <th>3</th>\n",
       "      <td>14</td>\n",
       "      <td>83</td>\n",
       "      <td>128</td>\n",
       "    </tr>\n",
       "    <tr>\n",
       "      <th>4</th>\n",
       "      <td>118</td>\n",
       "      <td>48</td>\n",
       "      <td>46</td>\n",
       "    </tr>\n",
       "    <tr>\n",
       "      <th>5</th>\n",
       "      <td>183</td>\n",
       "      <td>12</td>\n",
       "      <td>19</td>\n",
       "    </tr>\n",
       "  </tbody>\n",
       "</table style=\"display:inline\">"
      ]
     },
     "metadata": {},
     "output_type": "display_data"
    },
    {
     "data": {
      "image/png": "[encoded data removed]",
      "text/plain": [
       "<Figure size 1296x288 with 3 Axes>"
      ]
     },
     "metadata": {},
     "output_type": "display_data"
    }
   ],
   "source": [
    "# Filling missing values\n",
    "df_data['Fare'] = df_data['Fare'].fillna(df_data['Fare'].median())\n",
    "\n",
    "# Making Bins\n",
    "df_data['FareBin_4'] = pd.qcut(df_data['Fare'], 4)\n",
    "df_data['FareBin_5'] = pd.qcut(df_data['Fare'], 5)\n",
    "df_data['FareBin_6'] = pd.qcut(df_data['Fare'], 6)\n",
    "\n",
    "label = LabelEncoder()\n",
    "df_data['FareBin_Code_4'] = label.fit_transform(df_data['FareBin_4'])\n",
    "df_data['FareBin_Code_5'] = label.fit_transform(df_data['FareBin_5'])\n",
    "df_data['FareBin_Code_6'] = label.fit_transform(df_data['FareBin_6'])\n",
    "\n",
    "# cross tab\n",
    "df_4 = pd.crosstab(df_data['FareBin_Code_4'],df_data['Pclass'])\n",
    "df_5 = pd.crosstab(df_data['FareBin_Code_5'],df_data['Pclass'])\n",
    "df_6 = pd.crosstab(df_data['FareBin_Code_6'],df_data['Pclass'])\n",
    "\n",
    "display_side_by_side(df_4,df_5,df_6)\n",
    "\n",
    "# plots\n",
    "fig, [ax1, ax2, ax3] = plt.subplots(1, 3,sharey=True)\n",
    "fig.set_figwidth(18)\n",
    "for axi in [ax1, ax2, ax3]:\n",
    "    axi.axhline(0.5,linestyle='dashed', c='black',alpha = .3)\n",
    "g1 = sns.factorplot(x='FareBin_Code_4', y=\"Survived\", data=df_data,kind='bar',ax=ax1)\n",
    "g2 = sns.factorplot(x='FareBin_Code_5', y=\"Survived\", data=df_data,kind='bar',ax=ax2)\n",
    "g3 = sns.factorplot(x='FareBin_Code_6', y=\"Survived\", data=df_data,kind='bar',ax=ax3)\n",
    "# close FacetGrid object\n",
    "plt.close(g1.fig)\n",
    "plt.close(g2.fig)\n",
    "plt.close(g3.fig)"
   ]
  },
  {
   "cell_type": "code",
   "execution_count": 9,
   "metadata": {
    "ExecuteTime": {
     "end_time": "2018-06-17T05:37:51.192615Z",
     "start_time": "2018-06-17T05:37:51.173622Z"
    },
    "_cell_guid": "66f01e0f-92dd-499a-a365-6fb72c6bee0f",
    "_uuid": "c3a8d6e1-7f2f-488d-ad33-4409b8956b49",
    "execution": {
     "iopub.execute_input": "2020-10-06T15:37:59.206087Z",
     "iopub.status.busy": "2020-10-06T15:37:59.205051Z",
     "iopub.status.idle": "2020-10-06T15:37:59.210279Z",
     "shell.execute_reply": "2020-10-06T15:37:59.209567Z"
    },
    "papermill": {
     "duration": 0.057043,
     "end_time": "2020-10-06T15:37:59.210401",
     "exception": false,
     "start_time": "2020-10-06T15:37:59.153358",
     "status": "completed"
    },
    "tags": []
   },
   "outputs": [
    {
     "data": {
      "text/plain": [
       "Index(['Pclass', 'Name', 'Sex', 'Age', 'SibSp', 'Parch', 'Ticket', 'Fare',\n",
       "       'Cabin', 'Embarked', 'Sex_Code', 'Log_Fare', 'FareBin_4', 'FareBin_5',\n",
       "       'FareBin_6', 'FareBin_Code_4', 'FareBin_Code_5', 'FareBin_Code_6'],\n",
       "      dtype='object')"
      ]
     },
     "execution_count": 9,
     "metadata": {},
     "output_type": "execute_result"
    }
   ],
   "source": [
    "# splits again beacuse we just engineered new feature\n",
    "df_train = df_data[:len(df_train)]\n",
    "df_test = df_data[len(df_train):]\n",
    "# Training set and labels\n",
    "X = df_train.drop(labels=['Survived','PassengerId'],axis=1)\n",
    "Y = df_train['Survived']\n",
    "# show columns\n",
    "X.columns"
   ]
  },
  {
   "cell_type": "code",
   "execution_count": 10,
   "metadata": {
    "ExecuteTime": {
     "end_time": "2018-06-17T05:38:08.731326Z",
     "start_time": "2018-06-17T05:37:53.058563Z"
    },
    "_cell_guid": "61bdf3d4-1eca-4f8d-9a49-687c1ecc8733",
    "_uuid": "7daef6a5-a336-44f6-8cfe-8dca31fe03eb",
    "execution": {
     "iopub.execute_input": "2020-10-06T15:37:59.294510Z",
     "iopub.status.busy": "2020-10-06T15:37:59.293703Z",
     "iopub.status.idle": "2020-10-06T15:38:14.584048Z",
     "shell.execute_reply": "2020-10-06T15:38:14.584693Z"
    },
    "papermill": {
     "duration": 15.338181,
     "end_time": "2020-10-06T15:38:14.584850",
     "exception": false,
     "start_time": "2020-10-06T15:37:59.246669",
     "status": "completed"
    },
    "tags": []
   },
   "outputs": [
    {
     "name": "stdout",
     "output_type": "stream",
     "text": [
      "[ True  True  True  True  True]\n",
      "[1 1 1 1 1]\n",
      "[78.67290886 77.33208489 79.3545568  79.13108614 80.25468165]\n"
     ]
    }
   ],
   "source": [
    "compare = ['Sex_Code','Pclass','FareBin_Code_4','FareBin_Code_5','FareBin_Code_6']\n",
    "selector = RFECV(RandomForestClassifier(n_estimators=250,min_samples_split=20),cv=10,n_jobs=-1)\n",
    "selector.fit(X[compare], Y)\n",
    "print(selector.support_)\n",
    "print(selector.ranking_)\n",
    "print(selector.grid_scores_*100)"
   ]
  },
  {
   "cell_type": "code",
   "execution_count": 11,
   "metadata": {
    "ExecuteTime": {
     "end_time": "2018-06-17T05:41:53.820187Z",
     "start_time": "2018-06-17T05:38:31.514324Z"
    },
    "_cell_guid": "c2f319a9-2ce5-4ecb-8c14-495d7e609189",
    "_uuid": "3f5e32ab-6cf8-4f7f-a0b0-3260af692e27",
    "execution": {
     "iopub.execute_input": "2020-10-06T15:38:14.675061Z",
     "iopub.status.busy": "2020-10-06T15:38:14.674299Z",
     "iopub.status.idle": "2020-10-06T15:40:31.999860Z",
     "shell.execute_reply": "2020-10-06T15:40:31.999202Z"
    },
    "papermill": {
     "duration": 137.377144,
     "end_time": "2020-10-06T15:40:31.999998",
     "exception": false,
     "start_time": "2020-10-06T15:38:14.622854",
     "status": "completed"
    },
    "tags": []
   },
   "outputs": [],
   "source": [
    "score_b4,score_b5, score_b6 = [], [], []\n",
    "seeds = 10\n",
    "for i in range(seeds):\n",
    "    diff_cv = StratifiedKFold(n_splits=10,shuffle=True,random_state=i)\n",
    "    selector = RFECV(RandomForestClassifier(random_state=i,n_estimators=250,min_samples_split=20),cv=diff_cv,n_jobs=-1)\n",
    "    selector.fit(X[compare], Y)\n",
    "    score_b4.append(selector.grid_scores_[2])\n",
    "    score_b5.append(selector.grid_scores_[3])\n",
    "    score_b6.append(selector.grid_scores_[4])"
   ]
  },
  {
   "cell_type": "code",
   "execution_count": 12,
   "metadata": {
    "ExecuteTime": {
     "end_time": "2018-06-17T05:42:18.817633Z",
     "start_time": "2018-06-17T05:42:18.378865Z"
    },
    "_cell_guid": "33d81dc4-1ce3-4144-bd05-381ab3884759",
    "_uuid": "4a631ead-5d1b-4697-9e83-44bdd2aebe6a",
    "execution": {
     "iopub.execute_input": "2020-10-06T15:40:32.093563Z",
     "iopub.status.busy": "2020-10-06T15:40:32.085455Z",
     "iopub.status.idle": "2020-10-06T15:40:32.545963Z",
     "shell.execute_reply": "2020-10-06T15:40:32.545322Z"
    },
    "papermill": {
     "duration": 0.508715,
     "end_time": "2020-10-06T15:40:32.546077",
     "exception": false,
     "start_time": "2020-10-06T15:40:32.037362",
     "status": "completed"
    },
    "tags": []
   },
   "outputs": [
    {
     "data": {
      "text/plain": [
       "<matplotlib.legend.Legend at 0x7f3740eda690>"
      ]
     },
     "execution_count": 12,
     "metadata": {},
     "output_type": "execute_result"
    },
    {
     "data": {
      "image/png": "[encoded data removed]",
      "text/plain": [
       "<Figure size 1296x576 with 1 Axes>"
      ]
     },
     "metadata": {},
     "output_type": "display_data"
    }
   ],
   "source": [
    "# to np.array\n",
    "score_list = [score_b4, score_b5, score_b6]\n",
    "for item in score_list:\n",
    "    item = np.array(item*100)\n",
    "# plot\n",
    "fig = plt.figure(figsize= (18,8) )\n",
    "ax = plt.gca()\n",
    "ax.plot(range(seeds), score_b4,'-ok',label='bins = 4')\n",
    "ax.plot(range(seeds), score_b5,'-og',label='bins = 5')\n",
    "ax.plot(range(seeds), score_b6,'-ob',label='bins = 6')\n",
    "ax.set_xlabel(\"Seed #\", fontsize = '14')\n",
    "ax.set_ylim(0.783,0.815)\n",
    "ax.set_ylabel(\"Accuracy\", fontsize = '14')\n",
    "ax.set_title('bins = 4 vs bins = 5 vs bins = 6', fontsize='20')\n",
    "plt.legend(fontsize = 14,loc='upper right')"
   ]
  },
  {
   "cell_type": "code",
   "execution_count": 13,
   "metadata": {
    "ExecuteTime": {
     "end_time": "2018-06-17T05:42:22.002995Z",
     "start_time": "2018-06-17T05:42:20.311963Z"
    },
    "_cell_guid": "7d42ce5e-5564-436f-9872-485befcff8ba",
    "_uuid": "2b387037-52ad-4889-835c-fe42bf72d6cc",
    "execution": {
     "iopub.execute_input": "2020-10-06T15:40:32.647388Z",
     "iopub.status.busy": "2020-10-06T15:40:32.646283Z",
     "iopub.status.idle": "2020-10-06T15:40:34.772802Z",
     "shell.execute_reply": "2020-10-06T15:40:34.772143Z"
    },
    "papermill": {
     "duration": 2.186017,
     "end_time": "2020-10-06T15:40:34.772933",
     "exception": false,
     "start_time": "2020-10-06T15:40:32.586916",
     "status": "completed"
    },
    "tags": []
   },
   "outputs": [
    {
     "name": "stdout",
     "output_type": "stream",
     "text": [
      "b4 oob score :0.80584    LB_Public : 0.7790\n",
      "b5 oob score :0.81033   LB_Public : 0.79425\n",
      "b6 oob score : 0.80135   LB_Public : 0.77033\n"
     ]
    }
   ],
   "source": [
    "b4, b5, b6 = ['Sex_Code', 'Pclass','FareBin_Code_4'], ['Sex_Code','Pclass','FareBin_Code_5'],\\\n",
    "['Sex_Code','Pclass','FareBin_Code_6']\n",
    "b4_Model = RandomForestClassifier(random_state=2,n_estimators=250,min_samples_split=20,oob_score=True)\n",
    "b4_Model.fit(X[b4], Y)\n",
    "b5_Model = RandomForestClassifier(random_state=2,n_estimators=250,min_samples_split=20,oob_score=True)\n",
    "b5_Model.fit(X[b5], Y)\n",
    "b6_Model = RandomForestClassifier(random_state=2,n_estimators=250,min_samples_split=20,oob_score=True)\n",
    "b6_Model.fit(X[b6], Y)\n",
    "print('b4 oob score :%.5f' %(b4_Model.oob_score_),'   LB_Public : 0.7790')\n",
    "print('b5 oob score :%.5f '%(b5_Model.oob_score_),' LB_Public : 0.79425')\n",
    "print('b6 oob score : %.5f' %(b6_Model.oob_score_), '  LB_Public : 0.77033')"
   ]
  },
  {
   "cell_type": "code",
   "execution_count": 14,
   "metadata": {
    "ExecuteTime": {
     "end_time": "2018-06-17T05:42:24.347888Z",
     "start_time": "2018-06-17T05:42:24.330899Z"
    },
    "_cell_guid": "a1cb94f8-9a21-4eff-a6c0-95beb02154e6",
    "_uuid": "82c680e0-95ac-45fb-8955-7965ed157fca",
    "execution": {
     "iopub.execute_input": "2020-10-06T15:40:34.866784Z",
     "iopub.status.busy": "2020-10-06T15:40:34.865737Z",
     "iopub.status.idle": "2020-10-06T15:40:34.870679Z",
     "shell.execute_reply": "2020-10-06T15:40:34.869935Z"
    },
    "papermill": {
     "duration": 0.056976,
     "end_time": "2020-10-06T15:40:34.870803",
     "exception": false,
     "start_time": "2020-10-06T15:40:34.813827",
     "status": "completed"
    },
    "tags": []
   },
   "outputs": [
    {
     "data": {
      "text/plain": [
       "count          891\n",
       "unique         681\n",
       "top       CA. 2343\n",
       "freq             7\n",
       "Name: Ticket, dtype: object"
      ]
     },
     "execution_count": 14,
     "metadata": {},
     "output_type": "execute_result"
    }
   ],
   "source": [
    "df_train['Ticket'].describe()"
   ]
  },
  {
   "cell_type": "code",
   "execution_count": 15,
   "metadata": {
    "ExecuteTime": {
     "end_time": "2018-06-17T05:42:25.86311Z",
     "start_time": "2018-06-17T05:42:25.857133Z"
    },
    "_cell_guid": "138521ac-347f-4c32-8514-b57bbb9984c0",
    "_uuid": "f0d00fed-a5bd-4f23-9a96-9ac9a9709d7d",
    "execution": {
     "iopub.execute_input": "2020-10-06T15:40:34.965047Z",
     "iopub.status.busy": "2020-10-06T15:40:34.964248Z",
     "iopub.status.idle": "2020-10-06T15:40:34.967764Z",
     "shell.execute_reply": "2020-10-06T15:40:34.967002Z"
    },
    "papermill": {
     "duration": 0.055902,
     "end_time": "2020-10-06T15:40:34.967884",
     "exception": false,
     "start_time": "2020-10-06T15:40:34.911982",
     "status": "completed"
    },
    "tags": []
   },
   "outputs": [],
   "source": [
    "# Family_size\n",
    "df_data['Family_size'] = df_data['SibSp'] + df_data['Parch'] + 1"
   ]
  },
  {
   "cell_type": "code",
   "execution_count": 16,
   "metadata": {
    "ExecuteTime": {
     "end_time": "2018-06-17T05:42:29.996764Z",
     "start_time": "2018-06-17T05:42:27.821991Z"
    },
    "_cell_guid": "e654cd1c-dbef-408f-b2cb-64f0892cca3e",
    "_uuid": "95dba9e7-6c24-47b5-bd43-b9bf87b33470",
    "execution": {
     "iopub.execute_input": "2020-10-06T15:40:35.063189Z",
     "iopub.status.busy": "2020-10-06T15:40:35.062068Z",
     "iopub.status.idle": "2020-10-06T15:40:36.209787Z",
     "shell.execute_reply": "2020-10-06T15:40:36.209128Z"
    },
    "papermill": {
     "duration": 1.200492,
     "end_time": "2020-10-06T15:40:36.209920",
     "exception": false,
     "start_time": "2020-10-06T15:40:35.009428",
     "status": "completed"
    },
    "tags": []
   },
   "outputs": [
    {
     "data": {
      "text/html": [
       "<div>\n",
       "<style scoped>\n",
       "    .dataframe tbody tr th:only-of-type {\n",
       "        vertical-align: middle;\n",
       "    }\n",
       "\n",
       "    .dataframe tbody tr th {\n",
       "        vertical-align: top;\n",
       "    }\n",
       "\n",
       "    .dataframe thead th {\n",
       "        text-align: right;\n",
       "    }\n",
       "</style>\n",
       "<table border=\"1\" class=\"dataframe\">\n",
       "  <thead>\n",
       "    <tr style=\"text-align: right;\">\n",
       "      <th></th>\n",
       "      <th>Name</th>\n",
       "      <th>Ticket</th>\n",
       "      <th>Fare</th>\n",
       "      <th>Cabin</th>\n",
       "      <th>Family_size</th>\n",
       "      <th>Survived</th>\n",
       "    </tr>\n",
       "  </thead>\n",
       "  <tbody>\n",
       "    <tr>\n",
       "      <th>1</th>\n",
       "      <td>Cumings, Mrs. John Bradley (Florence Briggs Th...</td>\n",
       "      <td>PC 17599</td>\n",
       "      <td>71.2833</td>\n",
       "      <td>C85</td>\n",
       "      <td>2</td>\n",
       "      <td>1.0</td>\n",
       "    </tr>\n",
       "    <tr>\n",
       "      <th>234</th>\n",
       "      <td>Cumings, Mr. John Bradley</td>\n",
       "      <td>PC 17599</td>\n",
       "      <td>71.2833</td>\n",
       "      <td>C85</td>\n",
       "      <td>2</td>\n",
       "      <td>NaN</td>\n",
       "    </tr>\n",
       "    <tr>\n",
       "      <th>3</th>\n",
       "      <td>Futrelle, Mrs. Jacques Heath (Lily May Peel)</td>\n",
       "      <td>113803</td>\n",
       "      <td>53.1000</td>\n",
       "      <td>C123</td>\n",
       "      <td>2</td>\n",
       "      <td>1.0</td>\n",
       "    </tr>\n",
       "    <tr>\n",
       "      <th>137</th>\n",
       "      <td>Futrelle, Mr. Jacques Heath</td>\n",
       "      <td>113803</td>\n",
       "      <td>53.1000</td>\n",
       "      <td>C123</td>\n",
       "      <td>2</td>\n",
       "      <td>0.0</td>\n",
       "    </tr>\n",
       "    <tr>\n",
       "      <th>6</th>\n",
       "      <td>McCarthy, Mr. Timothy J</td>\n",
       "      <td>17463</td>\n",
       "      <td>51.8625</td>\n",
       "      <td>E46</td>\n",
       "      <td>1</td>\n",
       "      <td>0.0</td>\n",
       "    </tr>\n",
       "    <tr>\n",
       "      <th>146</th>\n",
       "      <td>Hilliard, Mr. Herbert Henry</td>\n",
       "      <td>17463</td>\n",
       "      <td>51.8625</td>\n",
       "      <td>E46</td>\n",
       "      <td>1</td>\n",
       "      <td>NaN</td>\n",
       "    </tr>\n",
       "    <tr>\n",
       "      <th>7</th>\n",
       "      <td>Palsson, Master. Gosta Leonard</td>\n",
       "      <td>349909</td>\n",
       "      <td>21.0750</td>\n",
       "      <td>NaN</td>\n",
       "      <td>5</td>\n",
       "      <td>0.0</td>\n",
       "    </tr>\n",
       "    <tr>\n",
       "      <th>24</th>\n",
       "      <td>Palsson, Miss. Torborg Danira</td>\n",
       "      <td>349909</td>\n",
       "      <td>21.0750</td>\n",
       "      <td>NaN</td>\n",
       "      <td>5</td>\n",
       "      <td>0.0</td>\n",
       "    </tr>\n",
       "    <tr>\n",
       "      <th>374</th>\n",
       "      <td>Palsson, Miss. Stina Viola</td>\n",
       "      <td>349909</td>\n",
       "      <td>21.0750</td>\n",
       "      <td>NaN</td>\n",
       "      <td>5</td>\n",
       "      <td>0.0</td>\n",
       "    </tr>\n",
       "    <tr>\n",
       "      <th>567</th>\n",
       "      <td>Palsson, Mrs. Nils (Alma Cornelia Berglund)</td>\n",
       "      <td>349909</td>\n",
       "      <td>21.0750</td>\n",
       "      <td>NaN</td>\n",
       "      <td>5</td>\n",
       "      <td>0.0</td>\n",
       "    </tr>\n",
       "    <tr>\n",
       "      <th>389</th>\n",
       "      <td>Palsson, Master. Paul Folke</td>\n",
       "      <td>349909</td>\n",
       "      <td>21.0750</td>\n",
       "      <td>NaN</td>\n",
       "      <td>5</td>\n",
       "      <td>NaN</td>\n",
       "    </tr>\n",
       "    <tr>\n",
       "      <th>8</th>\n",
       "      <td>Johnson, Mrs. Oscar W (Elisabeth Vilhelmina Berg)</td>\n",
       "      <td>347742</td>\n",
       "      <td>11.1333</td>\n",
       "      <td>NaN</td>\n",
       "      <td>3</td>\n",
       "      <td>1.0</td>\n",
       "    </tr>\n",
       "    <tr>\n",
       "      <th>172</th>\n",
       "      <td>Johnson, Miss. Eleanor Ileen</td>\n",
       "      <td>347742</td>\n",
       "      <td>11.1333</td>\n",
       "      <td>NaN</td>\n",
       "      <td>3</td>\n",
       "      <td>1.0</td>\n",
       "    </tr>\n",
       "    <tr>\n",
       "      <th>869</th>\n",
       "      <td>Johnson, Master. Harold Theodor</td>\n",
       "      <td>347742</td>\n",
       "      <td>11.1333</td>\n",
       "      <td>NaN</td>\n",
       "      <td>3</td>\n",
       "      <td>1.0</td>\n",
       "    </tr>\n",
       "  </tbody>\n",
       "</table>\n",
       "</div>"
      ],
      "text/plain": [
       "                                                  Name    Ticket     Fare  \\\n",
       "1    Cumings, Mrs. John Bradley (Florence Briggs Th...  PC 17599  71.2833   \n",
       "234                          Cumings, Mr. John Bradley  PC 17599  71.2833   \n",
       "3         Futrelle, Mrs. Jacques Heath (Lily May Peel)    113803  53.1000   \n",
       "137                        Futrelle, Mr. Jacques Heath    113803  53.1000   \n",
       "6                              McCarthy, Mr. Timothy J     17463  51.8625   \n",
       "146                        Hilliard, Mr. Herbert Henry     17463  51.8625   \n",
       "7                       Palsson, Master. Gosta Leonard    349909  21.0750   \n",
       "24                       Palsson, Miss. Torborg Danira    349909  21.0750   \n",
       "374                         Palsson, Miss. Stina Viola    349909  21.0750   \n",
       "567        Palsson, Mrs. Nils (Alma Cornelia Berglund)    349909  21.0750   \n",
       "389                        Palsson, Master. Paul Folke    349909  21.0750   \n",
       "8    Johnson, Mrs. Oscar W (Elisabeth Vilhelmina Berg)    347742  11.1333   \n",
       "172                       Johnson, Miss. Eleanor Ileen    347742  11.1333   \n",
       "869                    Johnson, Master. Harold Theodor    347742  11.1333   \n",
       "\n",
       "    Cabin  Family_size  Survived  \n",
       "1     C85            2       1.0  \n",
       "234   C85            2       NaN  \n",
       "3    C123            2       1.0  \n",
       "137  C123            2       0.0  \n",
       "6     E46            1       0.0  \n",
       "146   E46            1       NaN  \n",
       "7     NaN            5       0.0  \n",
       "24    NaN            5       0.0  \n",
       "374   NaN            5       0.0  \n",
       "567   NaN            5       0.0  \n",
       "389   NaN            5       NaN  \n",
       "8     NaN            3       1.0  \n",
       "172   NaN            3       1.0  \n",
       "869   NaN            3       1.0  "
      ]
     },
     "execution_count": 16,
     "metadata": {},
     "output_type": "execute_result"
    }
   ],
   "source": [
    "deplicate_ticket = []\n",
    "for tk in df_data.Ticket.unique():\n",
    "    tem = df_data.loc[df_data.Ticket == tk, 'Fare']\n",
    "    #print(tem.count())\n",
    "    if tem.count() > 1:\n",
    "        #print(df_data.loc[df_data.Ticket == tk,['Name','Ticket','Fare']])\n",
    "        deplicate_ticket.append(df_data.loc[df_data.Ticket == tk,['Name','Ticket','Fare','Cabin','Family_size','Survived']])\n",
    "deplicate_ticket = pd.concat(deplicate_ticket)\n",
    "deplicate_ticket.head(14)"
   ]
  },
  {
   "cell_type": "code",
   "execution_count": 17,
   "metadata": {
    "ExecuteTime": {
     "end_time": "2018-06-17T05:42:30.098685Z",
     "start_time": "2018-06-17T05:42:30.041719Z"
    },
    "_cell_guid": "982ddc1d-77e8-4897-b86c-3645e547524f",
    "_uuid": "9d9c54af-695c-47a2-a4d5-f2c21cf33763",
    "execution": {
     "iopub.execute_input": "2020-10-06T15:40:36.319480Z",
     "iopub.status.busy": "2020-10-06T15:40:36.318197Z",
     "iopub.status.idle": "2020-10-06T15:40:36.338539Z",
     "shell.execute_reply": "2020-10-06T15:40:36.339514Z"
    },
    "papermill": {
     "duration": 0.086377,
     "end_time": "2020-10-06T15:40:36.339746",
     "exception": false,
     "start_time": "2020-10-06T15:40:36.253369",
     "status": "completed"
    },
    "tags": []
   },
   "outputs": [
    {
     "data": {
      "text/html": [
       "<div>\n",
       "<style scoped>\n",
       "    .dataframe tbody tr th:only-of-type {\n",
       "        vertical-align: middle;\n",
       "    }\n",
       "\n",
       "    .dataframe tbody tr th {\n",
       "        vertical-align: top;\n",
       "    }\n",
       "\n",
       "    .dataframe thead th {\n",
       "        text-align: right;\n",
       "    }\n",
       "</style>\n",
       "<table border=\"1\" class=\"dataframe\">\n",
       "  <thead>\n",
       "    <tr style=\"text-align: right;\">\n",
       "      <th></th>\n",
       "      <th>Name</th>\n",
       "      <th>Ticket</th>\n",
       "      <th>Fare</th>\n",
       "      <th>Cabin</th>\n",
       "      <th>Family_size</th>\n",
       "      <th>Survived</th>\n",
       "    </tr>\n",
       "  </thead>\n",
       "  <tbody>\n",
       "    <tr>\n",
       "      <th>6</th>\n",
       "      <td>McCarthy, Mr. Timothy J</td>\n",
       "      <td>17463</td>\n",
       "      <td>51.8625</td>\n",
       "      <td>E46</td>\n",
       "      <td>1</td>\n",
       "      <td>0.0</td>\n",
       "    </tr>\n",
       "    <tr>\n",
       "      <th>20</th>\n",
       "      <td>Fynney, Mr. Joseph J</td>\n",
       "      <td>239865</td>\n",
       "      <td>26.0000</td>\n",
       "      <td>NaN</td>\n",
       "      <td>1</td>\n",
       "      <td>0.0</td>\n",
       "    </tr>\n",
       "    <tr>\n",
       "      <th>791</th>\n",
       "      <td>Gaskell, Mr. Alfred</td>\n",
       "      <td>239865</td>\n",
       "      <td>26.0000</td>\n",
       "      <td>NaN</td>\n",
       "      <td>1</td>\n",
       "      <td>0.0</td>\n",
       "    </tr>\n",
       "    <tr>\n",
       "      <th>195</th>\n",
       "      <td>Lurette, Miss. Elise</td>\n",
       "      <td>PC 17569</td>\n",
       "      <td>146.5208</td>\n",
       "      <td>B80</td>\n",
       "      <td>1</td>\n",
       "      <td>1.0</td>\n",
       "    </tr>\n",
       "    <tr>\n",
       "      <th>681</th>\n",
       "      <td>Hassab, Mr. Hammad</td>\n",
       "      <td>PC 17572</td>\n",
       "      <td>76.7292</td>\n",
       "      <td>D49</td>\n",
       "      <td>1</td>\n",
       "      <td>1.0</td>\n",
       "    </tr>\n",
       "    <tr>\n",
       "      <th>61</th>\n",
       "      <td>Icard, Miss. Amelie</td>\n",
       "      <td>113572</td>\n",
       "      <td>80.0000</td>\n",
       "      <td>B28</td>\n",
       "      <td>1</td>\n",
       "      <td>1.0</td>\n",
       "    </tr>\n",
       "    <tr>\n",
       "      <th>829</th>\n",
       "      <td>Stone, Mrs. George Nelson (Martha Evelyn)</td>\n",
       "      <td>113572</td>\n",
       "      <td>80.0000</td>\n",
       "      <td>B28</td>\n",
       "      <td>1</td>\n",
       "      <td>1.0</td>\n",
       "    </tr>\n",
       "  </tbody>\n",
       "</table>\n",
       "</div>"
      ],
      "text/plain": [
       "                                          Name    Ticket      Fare Cabin  \\\n",
       "6                      McCarthy, Mr. Timothy J     17463   51.8625   E46   \n",
       "20                        Fynney, Mr. Joseph J    239865   26.0000   NaN   \n",
       "791                        Gaskell, Mr. Alfred    239865   26.0000   NaN   \n",
       "195                       Lurette, Miss. Elise  PC 17569  146.5208   B80   \n",
       "681                         Hassab, Mr. Hammad  PC 17572   76.7292   D49   \n",
       "61                         Icard, Miss. Amelie    113572   80.0000   B28   \n",
       "829  Stone, Mrs. George Nelson (Martha Evelyn)    113572   80.0000   B28   \n",
       "\n",
       "     Family_size  Survived  \n",
       "6              1       0.0  \n",
       "20             1       0.0  \n",
       "791            1       0.0  \n",
       "195            1       1.0  \n",
       "681            1       1.0  \n",
       "61             1       1.0  \n",
       "829            1       1.0  "
      ]
     },
     "metadata": {},
     "output_type": "display_data"
    },
    {
     "data": {
      "text/html": [
       "<div>\n",
       "<style scoped>\n",
       "    .dataframe tbody tr th:only-of-type {\n",
       "        vertical-align: middle;\n",
       "    }\n",
       "\n",
       "    .dataframe tbody tr th {\n",
       "        vertical-align: top;\n",
       "    }\n",
       "\n",
       "    .dataframe thead th {\n",
       "        text-align: right;\n",
       "    }\n",
       "</style>\n",
       "<table border=\"1\" class=\"dataframe\">\n",
       "  <thead>\n",
       "    <tr style=\"text-align: right;\">\n",
       "      <th></th>\n",
       "      <th>Name</th>\n",
       "      <th>Ticket</th>\n",
       "      <th>Fare</th>\n",
       "      <th>Cabin</th>\n",
       "      <th>Family_size</th>\n",
       "      <th>Survived</th>\n",
       "    </tr>\n",
       "  </thead>\n",
       "  <tbody>\n",
       "    <tr>\n",
       "      <th>1</th>\n",
       "      <td>Cumings, Mrs. John Bradley (Florence Briggs Th...</td>\n",
       "      <td>PC 17599</td>\n",
       "      <td>71.2833</td>\n",
       "      <td>C85</td>\n",
       "      <td>2</td>\n",
       "      <td>1.0</td>\n",
       "    </tr>\n",
       "    <tr>\n",
       "      <th>3</th>\n",
       "      <td>Futrelle, Mrs. Jacques Heath (Lily May Peel)</td>\n",
       "      <td>113803</td>\n",
       "      <td>53.1000</td>\n",
       "      <td>C123</td>\n",
       "      <td>2</td>\n",
       "      <td>1.0</td>\n",
       "    </tr>\n",
       "    <tr>\n",
       "      <th>137</th>\n",
       "      <td>Futrelle, Mr. Jacques Heath</td>\n",
       "      <td>113803</td>\n",
       "      <td>53.1000</td>\n",
       "      <td>C123</td>\n",
       "      <td>2</td>\n",
       "      <td>0.0</td>\n",
       "    </tr>\n",
       "    <tr>\n",
       "      <th>7</th>\n",
       "      <td>Palsson, Master. Gosta Leonard</td>\n",
       "      <td>349909</td>\n",
       "      <td>21.0750</td>\n",
       "      <td>NaN</td>\n",
       "      <td>5</td>\n",
       "      <td>0.0</td>\n",
       "    </tr>\n",
       "    <tr>\n",
       "      <th>24</th>\n",
       "      <td>Palsson, Miss. Torborg Danira</td>\n",
       "      <td>349909</td>\n",
       "      <td>21.0750</td>\n",
       "      <td>NaN</td>\n",
       "      <td>5</td>\n",
       "      <td>0.0</td>\n",
       "    </tr>\n",
       "    <tr>\n",
       "      <th>374</th>\n",
       "      <td>Palsson, Miss. Stina Viola</td>\n",
       "      <td>349909</td>\n",
       "      <td>21.0750</td>\n",
       "      <td>NaN</td>\n",
       "      <td>5</td>\n",
       "      <td>0.0</td>\n",
       "    </tr>\n",
       "    <tr>\n",
       "      <th>567</th>\n",
       "      <td>Palsson, Mrs. Nils (Alma Cornelia Berglund)</td>\n",
       "      <td>349909</td>\n",
       "      <td>21.0750</td>\n",
       "      <td>NaN</td>\n",
       "      <td>5</td>\n",
       "      <td>0.0</td>\n",
       "    </tr>\n",
       "  </tbody>\n",
       "</table>\n",
       "</div>"
      ],
      "text/plain": [
       "                                                  Name    Ticket     Fare  \\\n",
       "1    Cumings, Mrs. John Bradley (Florence Briggs Th...  PC 17599  71.2833   \n",
       "3         Futrelle, Mrs. Jacques Heath (Lily May Peel)    113803  53.1000   \n",
       "137                        Futrelle, Mr. Jacques Heath    113803  53.1000   \n",
       "7                       Palsson, Master. Gosta Leonard    349909  21.0750   \n",
       "24                       Palsson, Miss. Torborg Danira    349909  21.0750   \n",
       "374                         Palsson, Miss. Stina Viola    349909  21.0750   \n",
       "567        Palsson, Mrs. Nils (Alma Cornelia Berglund)    349909  21.0750   \n",
       "\n",
       "    Cabin  Family_size  Survived  \n",
       "1     C85            2       1.0  \n",
       "3    C123            2       1.0  \n",
       "137  C123            2       0.0  \n",
       "7     NaN            5       0.0  \n",
       "24    NaN            5       0.0  \n",
       "374   NaN            5       0.0  \n",
       "567   NaN            5       0.0  "
      ]
     },
     "metadata": {},
     "output_type": "display_data"
    },
    {
     "name": "stdout",
     "output_type": "stream",
     "text": [
      "people keep the same ticket: 596 \n",
      "friends: 127 \n",
      "families: 469 \n"
     ]
    }
   ],
   "source": [
    "df_fri = deplicate_ticket.loc[(deplicate_ticket.Family_size == 1) & (deplicate_ticket.Survived.notnull())].head(7)\n",
    "df_fami = deplicate_ticket.loc[(deplicate_ticket.Family_size > 1) & (deplicate_ticket.Survived.notnull())].head(7)\n",
    "display(df_fri,df_fami)\n",
    "print('people keep the same ticket: %.0f '%len(deplicate_ticket))\n",
    "print('friends: %.0f '%len(deplicate_ticket[deplicate_ticket.Family_size == 1]))\n",
    "print('families: %.0f '%len(deplicate_ticket[deplicate_ticket.Family_size > 1]))"
   ]
  },
  {
   "cell_type": "code",
   "execution_count": 18,
   "metadata": {
    "ExecuteTime": {
     "end_time": "2018-06-17T05:42:35.604574Z",
     "start_time": "2018-06-17T05:42:32.466347Z"
    },
    "_cell_guid": "15ad99ba-39bc-4c1d-b7dc-53c420e6d34d",
    "_uuid": "ecd73460-eaa7-4c84-b2de-339ac8e0c525",
    "execution": {
     "iopub.execute_input": "2020-10-06T15:40:36.459437Z",
     "iopub.status.busy": "2020-10-06T15:40:36.458644Z",
     "iopub.status.idle": "2020-10-06T15:40:38.870566Z",
     "shell.execute_reply": "2020-10-06T15:40:38.869768Z"
    },
    "papermill": {
     "duration": 2.479585,
     "end_time": "2020-10-06T15:40:38.870702",
     "exception": false,
     "start_time": "2020-10-06T15:40:36.391117",
     "status": "completed"
    },
    "tags": []
   },
   "outputs": [
    {
     "name": "stdout",
     "output_type": "stream",
     "text": [
      "people keep the same ticket: 596 \n",
      "people have connected information : 496\n"
     ]
    },
    {
     "data": {
      "text/html": [
       "<div>\n",
       "<style scoped>\n",
       "    .dataframe tbody tr th:only-of-type {\n",
       "        vertical-align: middle;\n",
       "    }\n",
       "\n",
       "    .dataframe tbody tr th {\n",
       "        vertical-align: top;\n",
       "    }\n",
       "\n",
       "    .dataframe thead th {\n",
       "        text-align: right;\n",
       "    }\n",
       "</style>\n",
       "<table border=\"1\" class=\"dataframe\">\n",
       "  <thead>\n",
       "    <tr style=\"text-align: right;\">\n",
       "      <th></th>\n",
       "      <th>Survived</th>\n",
       "    </tr>\n",
       "    <tr>\n",
       "      <th>Connected_Survival</th>\n",
       "      <th></th>\n",
       "    </tr>\n",
       "  </thead>\n",
       "  <tbody>\n",
       "    <tr>\n",
       "      <th>0.0</th>\n",
       "      <td>0.225</td>\n",
       "    </tr>\n",
       "    <tr>\n",
       "      <th>0.5</th>\n",
       "      <td>0.298</td>\n",
       "    </tr>\n",
       "    <tr>\n",
       "      <th>1.0</th>\n",
       "      <td>0.728</td>\n",
       "    </tr>\n",
       "  </tbody>\n",
       "</table>\n",
       "</div>"
      ],
      "text/plain": [
       "                    Survived\n",
       "Connected_Survival          \n",
       "0.0                    0.225\n",
       "0.5                    0.298\n",
       "1.0                    0.728"
      ]
     },
     "execution_count": 18,
     "metadata": {},
     "output_type": "execute_result"
    }
   ],
   "source": [
    "# the same ticket family or friends\n",
    "df_data['Connected_Survival'] = 0.5 # default \n",
    "for _, df_grp in df_data.groupby('Ticket'):\n",
    "    if (len(df_grp) > 1):\n",
    "        for ind, row in df_grp.iterrows():\n",
    "            smax = df_grp.drop(ind)['Survived'].max()\n",
    "            smin = df_grp.drop(ind)['Survived'].min()\n",
    "            passID = row['PassengerId']\n",
    "            if (smax == 1.0):\n",
    "                df_data.loc[df_data['PassengerId'] == passID, 'Connected_Survival'] = 1\n",
    "            elif (smin==0.0):\n",
    "                df_data.loc[df_data['PassengerId'] == passID, 'Connected_Survival'] = 0\n",
    "#print\n",
    "print('people keep the same ticket: %.0f '%len(deplicate_ticket))\n",
    "print(\"people have connected information : %.0f\" \n",
    "      %(df_data[df_data['Connected_Survival']!=0.5].shape[0]))\n",
    "df_data.groupby('Connected_Survival')[['Survived']].mean().round(3)"
   ]
  },
  {
   "cell_type": "code",
   "execution_count": 19,
   "metadata": {
    "ExecuteTime": {
     "end_time": "2018-06-17T05:42:38.687011Z",
     "start_time": "2018-06-17T05:42:38.677016Z"
    },
    "_cell_guid": "f8c0a22e-c035-455a-9a1e-84e0d143b935",
    "_uuid": "f05523bd-7764-4678-84ce-24afa45936c0",
    "execution": {
     "iopub.execute_input": "2020-10-06T15:40:38.984677Z",
     "iopub.status.busy": "2020-10-06T15:40:38.983502Z",
     "iopub.status.idle": "2020-10-06T15:40:38.986939Z",
     "shell.execute_reply": "2020-10-06T15:40:38.986225Z"
    },
    "papermill": {
     "duration": 0.0647,
     "end_time": "2020-10-06T15:40:38.987062",
     "exception": false,
     "start_time": "2020-10-06T15:40:38.922362",
     "status": "completed"
    },
    "tags": []
   },
   "outputs": [],
   "source": [
    "df_train = df_data[:len(df_train)]\n",
    "df_test = df_data[len(df_train):]\n",
    "# Training set and labels\n",
    "X = df_train.drop(labels=['Survived','PassengerId'],axis=1)\n",
    "Y = df_train['Survived']"
   ]
  },
  {
   "cell_type": "code",
   "execution_count": 20,
   "metadata": {
    "ExecuteTime": {
     "end_time": "2018-06-17T05:42:40.854872Z",
     "start_time": "2018-06-17T05:42:40.316171Z"
    },
    "_cell_guid": "2a2daedc-2af0-48ca-b4c7-1543bade9f23",
    "_uuid": "96ce4a26-5731-4546-b4f1-1f27b59a0ea9",
    "execution": {
     "iopub.execute_input": "2020-10-06T15:40:39.094693Z",
     "iopub.status.busy": "2020-10-06T15:40:39.089054Z",
     "iopub.status.idle": "2020-10-06T15:40:39.832646Z",
     "shell.execute_reply": "2020-10-06T15:40:39.831680Z"
    },
    "papermill": {
     "duration": 0.799717,
     "end_time": "2020-10-06T15:40:39.832806",
     "exception": false,
     "start_time": "2020-10-06T15:40:39.033089",
     "status": "completed"
    },
    "tags": []
   },
   "outputs": [
    {
     "name": "stdout",
     "output_type": "stream",
     "text": [
      "connect oob score :0.82043\n"
     ]
    }
   ],
   "source": [
    "connect = ['Sex_Code','Pclass','FareBin_Code_5','Connected_Survival']\n",
    "connect_Model = RandomForestClassifier(random_state=2,n_estimators=250,min_samples_split=20\n",
    "                                       ,oob_score=True)\n",
    "connect_Model.fit(X[connect], Y)\n",
    "print('connect oob score :%.5f' %(connect_Model.oob_score_))"
   ]
  },
  {
   "cell_type": "code",
   "execution_count": 21,
   "metadata": {
    "ExecuteTime": {
     "end_time": "2018-06-17T05:42:44.752725Z",
     "start_time": "2018-06-17T05:42:44.210035Z"
    },
    "_cell_guid": "757f207f-a6a7-499b-8f2a-9e687389895a",
    "_uuid": "2b110e6e-5690-42d3-b59c-657fe3b2f0a5",
    "execution": {
     "iopub.execute_input": "2020-10-06T15:40:39.946532Z",
     "iopub.status.busy": "2020-10-06T15:40:39.939650Z",
     "iopub.status.idle": "2020-10-06T15:40:40.501306Z",
     "shell.execute_reply": "2020-10-06T15:40:40.501858Z"
    },
    "papermill": {
     "duration": 0.62093,
     "end_time": "2020-10-06T15:40:40.502017",
     "exception": false,
     "start_time": "2020-10-06T15:40:39.881087",
     "status": "completed"
    },
    "tags": []
   },
   "outputs": [
    {
     "data": {
      "text/html": [
       "<div>\n",
       "<style scoped>\n",
       "    .dataframe tbody tr th:only-of-type {\n",
       "        vertical-align: middle;\n",
       "    }\n",
       "\n",
       "    .dataframe tbody tr th {\n",
       "        vertical-align: top;\n",
       "    }\n",
       "\n",
       "    .dataframe thead th {\n",
       "        text-align: right;\n",
       "    }\n",
       "</style>\n",
       "<table border=\"1\" class=\"dataframe\">\n",
       "  <thead>\n",
       "    <tr style=\"text-align: right;\">\n",
       "      <th>Sex</th>\n",
       "      <th>female</th>\n",
       "      <th>male</th>\n",
       "      <th>All</th>\n",
       "    </tr>\n",
       "    <tr>\n",
       "      <th>Has_Age</th>\n",
       "      <th></th>\n",
       "      <th></th>\n",
       "      <th></th>\n",
       "    </tr>\n",
       "  </thead>\n",
       "  <tbody>\n",
       "    <tr>\n",
       "      <th>0</th>\n",
       "      <td>78</td>\n",
       "      <td>185</td>\n",
       "      <td>263</td>\n",
       "    </tr>\n",
       "    <tr>\n",
       "      <th>1</th>\n",
       "      <td>388</td>\n",
       "      <td>658</td>\n",
       "      <td>1046</td>\n",
       "    </tr>\n",
       "    <tr>\n",
       "      <th>All</th>\n",
       "      <td>466</td>\n",
       "      <td>843</td>\n",
       "      <td>1309</td>\n",
       "    </tr>\n",
       "  </tbody>\n",
       "</table>\n",
       "</div>"
      ],
      "text/plain": [
       "Sex      female  male   All\n",
       "Has_Age                    \n",
       "0            78   185   263\n",
       "1           388   658  1046\n",
       "All         466   843  1309"
      ]
     },
     "execution_count": 21,
     "metadata": {},
     "output_type": "execute_result"
    },
    {
     "data": {
      "image/png": "[encoded data removed]",
      "text/plain": [
       "<Figure size 1296x288 with 2 Axes>"
      ]
     },
     "metadata": {},
     "output_type": "display_data"
    }
   ],
   "source": [
    "df_data['Has_Age'] = df_data['Age'].isnull().map(lambda x : 0 if x == True else 1)\n",
    "fig, [ax1, ax2] = plt.subplots(1, 2)\n",
    "fig.set_figwidth(18)\n",
    "ax1 = sns.countplot(df_data['Pclass'],hue=df_data['Has_Age'],ax=ax1)\n",
    "ax2 = sns.countplot(df_data['Sex'],hue=df_data['Has_Age'],ax=ax2)\n",
    "pd.crosstab(df_data['Has_Age'],df_data['Sex'],margins=True).round(3)"
   ]
  },
  {
   "cell_type": "code",
   "execution_count": 22,
   "metadata": {
    "ExecuteTime": {
     "end_time": "2018-06-17T05:42:46.988463Z",
     "start_time": "2018-06-17T05:42:46.525728Z"
    },
    "_cell_guid": "40af42c0-3487-4532-b91e-f6156a9acf0a",
    "_uuid": "6d7b1c91-c1b5-4984-867e-15e8573ebdad",
    "execution": {
     "iopub.execute_input": "2020-10-06T15:40:40.624720Z",
     "iopub.status.busy": "2020-10-06T15:40:40.623457Z",
     "iopub.status.idle": "2020-10-06T15:40:41.094717Z",
     "shell.execute_reply": "2020-10-06T15:40:41.094076Z"
    },
    "papermill": {
     "duration": 0.544543,
     "end_time": "2020-10-06T15:40:41.094837",
     "exception": false,
     "start_time": "2020-10-06T15:40:40.550294",
     "status": "completed"
    },
    "tags": []
   },
   "outputs": [
    {
     "data": {
      "text/plain": [
       "Text(0.5, 1.0, 'Age vs Survived in Pclass = 1 and  2')"
      ]
     },
     "execution_count": 22,
     "metadata": {},
     "output_type": "execute_result"
    },
    {
     "data": {
      "image/png": "[encoded data removed]",
      "text/plain": [
       "<Figure size 1080x648 with 1 Axes>"
      ]
     },
     "metadata": {},
     "output_type": "display_data"
    }
   ],
   "source": [
    "# Masks\n",
    "Mask_Has_Age_P12_Survived = ( (df_data.Has_Age == 1) & (df_data.Pclass != 3 ) & (df_data.Survived == 1) )\n",
    "Mask_Has_Age_P12_Dead = ( (df_data.Has_Age == 1) & (df_data.Pclass != 3 ) & (df_data.Survived == 0) )\n",
    "# Plot\n",
    "fig, ax = plt.subplots( figsize = (15,9) )\n",
    "ax = sns.distplot(df_data.loc[Mask_Has_Age_P12_Survived, 'Age'],kde=False,bins=10,norm_hist=True,label='Survived') \n",
    "ax = sns.distplot(df_data.loc[Mask_Has_Age_P12_Dead, 'Age'],kde=False,bins=10,norm_hist=True,label='Dead')\n",
    "ax.legend()\n",
    "ax.set_title('Age vs Survived in Pclass = 1 and  2',fontsize = 20)"
   ]
  },
  {
   "cell_type": "code",
   "execution_count": 23,
   "metadata": {
    "ExecuteTime": {
     "end_time": "2018-06-17T05:42:49.347295Z",
     "start_time": "2018-06-17T05:42:49.313313Z"
    },
    "_cell_guid": "c1a7ac00-8683-4925-bcd0-38504de78021",
    "_uuid": "71d6a7ae-ab53-4216-9202-eb78362bba2f",
    "execution": {
     "iopub.execute_input": "2020-10-06T15:40:41.219322Z",
     "iopub.status.busy": "2020-10-06T15:40:41.218562Z",
     "iopub.status.idle": "2020-10-06T15:40:41.227367Z",
     "shell.execute_reply": "2020-10-06T15:40:41.226766Z"
    },
    "papermill": {
     "duration": 0.081204,
     "end_time": "2020-10-06T15:40:41.227496",
     "exception": false,
     "start_time": "2020-10-06T15:40:41.146292",
     "status": "completed"
    },
    "tags": []
   },
   "outputs": [
    {
     "data": {
      "text/plain": [
       "Title\n",
       "0    29.0\n",
       "1    47.0\n",
       "2     4.0\n",
       "3    22.0\n",
       "4    36.0\n",
       "Name: Age, dtype: float64"
      ]
     },
     "execution_count": 23,
     "metadata": {},
     "output_type": "execute_result"
    }
   ],
   "source": [
    "# extracted title using name\n",
    "df_data['Title'] = df_data.Name.str.extract(' ([A-Za-z]+)\\.', expand=False)\n",
    "df_data['Title'] = df_data['Title'].replace(['Capt', 'Col', 'Countess', 'Don',\n",
    "                                               'Dr', 'Dona', 'Jonkheer', \n",
    "                                                'Major','Rev','Sir'],'Rare') \n",
    "df_data['Title'] = df_data['Title'].replace(['Mlle', 'Ms','Mme'],'Miss')\n",
    "df_data['Title'] = df_data['Title'].replace(['Lady'],'Mrs')\n",
    "df_data['Title'] = df_data['Title'].map({\"Mr\":0, \"Rare\" : 1, \"Master\" : 2,\"Miss\" : 3, \"Mrs\" : 4 })\n",
    "Ti = df_data.groupby('Title')['Age'].median()\n",
    "Ti"
   ]
  },
  {
   "cell_type": "code",
   "execution_count": 24,
   "metadata": {
    "ExecuteTime": {
     "end_time": "2018-06-17T05:42:51.34872Z",
     "start_time": "2018-06-17T05:42:51.317738Z"
    },
    "_cell_guid": "99754265-bdca-4331-8302-d42376c5091e",
    "_uuid": "1af1b5ed-1d60-4cfd-83c6-dcecf9a89f80",
    "execution": {
     "iopub.execute_input": "2020-10-06T15:40:41.356650Z",
     "iopub.status.busy": "2020-10-06T15:40:41.355593Z",
     "iopub.status.idle": "2020-10-06T15:40:41.369492Z",
     "shell.execute_reply": "2020-10-06T15:40:41.368763Z"
    },
    "papermill": {
     "duration": 0.082834,
     "end_time": "2020-10-06T15:40:41.369648",
     "exception": false,
     "start_time": "2020-10-06T15:40:41.286814",
     "status": "completed"
    },
    "tags": []
   },
   "outputs": [],
   "source": [
    "Ti_pred = df_data.groupby('Title')['Age'].median().values\n",
    "df_data['Ti_Age'] = df_data['Age']\n",
    "# Filling the missing age\n",
    "for i in range(0,5):\n",
    " # 0 1 2 3 4 5\n",
    "    df_data.loc[(df_data.Age.isnull()) & (df_data.Title == i),'Ti_Age'] = Ti_pred[i]\n",
    "df_data['Ti_Age'] = df_data['Ti_Age'].astype('int')\n",
    "df_data['Ti_Minor'] = ((df_data['Ti_Age']) < 16.0) * 1"
   ]
  },
  {
   "cell_type": "code",
   "execution_count": 25,
   "metadata": {
    "ExecuteTime": {
     "end_time": "2018-06-17T05:42:53.084747Z",
     "start_time": "2018-06-17T05:42:53.071753Z"
    },
    "_cell_guid": "a8279859-0f1f-4033-86bf-11f19af1afc5",
    "_uuid": "44e1395e-32bc-4412-b1c5-2392dddaa651",
    "execution": {
     "iopub.execute_input": "2020-10-06T15:40:41.482926Z",
     "iopub.status.busy": "2020-10-06T15:40:41.481313Z",
     "iopub.status.idle": "2020-10-06T15:40:41.486073Z",
     "shell.execute_reply": "2020-10-06T15:40:41.485491Z"
    },
    "papermill": {
     "duration": 0.063779,
     "end_time": "2020-10-06T15:40:41.486213",
     "exception": false,
     "start_time": "2020-10-06T15:40:41.422434",
     "status": "completed"
    },
    "tags": []
   },
   "outputs": [],
   "source": [
    "# splits again beacuse we just engineered new feature\n",
    "df_train = df_data[:len(df_train)]\n",
    "df_test = df_data[len(df_train):]\n",
    "# Training set and labels\n",
    "X = df_train.drop(labels=['Survived','PassengerId'],axis=1)\n",
    "Y = df_train['Survived']"
   ]
  },
  {
   "cell_type": "code",
   "execution_count": 26,
   "metadata": {
    "ExecuteTime": {
     "end_time": "2018-06-17T05:42:55.315483Z",
     "start_time": "2018-06-17T05:42:54.700833Z"
    },
    "_cell_guid": "049bfeb5-dce2-413a-a2a7-a128d66bc631",
    "_uuid": "834d94b2-74e6-4eb9-a3d2-6e8e11fef93f",
    "execution": {
     "iopub.execute_input": "2020-10-06T15:40:41.600280Z",
     "iopub.status.busy": "2020-10-06T15:40:41.599477Z",
     "iopub.status.idle": "2020-10-06T15:40:41.903029Z",
     "shell.execute_reply": "2020-10-06T15:40:41.902292Z"
    },
    "papermill": {
     "duration": 0.365423,
     "end_time": "2020-10-06T15:40:41.903167",
     "exception": false,
     "start_time": "2020-10-06T15:40:41.537744",
     "status": "completed"
    },
    "tags": []
   },
   "outputs": [
    {
     "name": "stdout",
     "output_type": "stream",
     "text": [
      "minor oob score :0.84624\n"
     ]
    }
   ],
   "source": [
    "minor = ['Sex_Code','Pclass','FareBin_Code_5','Connected_Survival','Ti_Minor']\n",
    "minor_Model = RandomForestClassifier(random_state=42,oob_score=True)\n",
    "minor_Model.fit(X[minor], Y)\n",
    "print('minor oob score :%.5f' %(minor_Model.oob_score_))"
   ]
  },
  {
   "cell_type": "code",
   "execution_count": 27,
   "metadata": {
    "execution": {
     "iopub.execute_input": "2020-10-06T15:40:42.014281Z",
     "iopub.status.busy": "2020-10-06T15:40:42.013519Z",
     "iopub.status.idle": "2020-10-06T15:40:42.018354Z",
     "shell.execute_reply": "2020-10-06T15:40:42.017559Z"
    },
    "papermill": {
     "duration": 0.063581,
     "end_time": "2020-10-06T15:40:42.018515",
     "exception": false,
     "start_time": "2020-10-06T15:40:41.954934",
     "status": "completed"
    },
    "tags": []
   },
   "outputs": [
    {
     "name": "stdout",
     "output_type": "stream",
     "text": [
      "Parameters currently in use:\n",
      "\n",
      "{'bootstrap': True,\n",
      " 'ccp_alpha': 0.0,\n",
      " 'class_weight': None,\n",
      " 'criterion': 'gini',\n",
      " 'max_depth': None,\n",
      " 'max_features': 'auto',\n",
      " 'max_leaf_nodes': None,\n",
      " 'max_samples': None,\n",
      " 'min_impurity_decrease': 0.0,\n",
      " 'min_impurity_split': None,\n",
      " 'min_samples_leaf': 1,\n",
      " 'min_samples_split': 2,\n",
      " 'min_weight_fraction_leaf': 0.0,\n",
      " 'n_estimators': 100,\n",
      " 'n_jobs': None,\n",
      " 'oob_score': True,\n",
      " 'random_state': 42,\n",
      " 'verbose': 0,\n",
      " 'warm_start': False}\n"
     ]
    }
   ],
   "source": [
    "from pprint import pprint# Look at parameters used by our current forest\n",
    "print('Parameters currently in use:\\n')\n",
    "pprint(minor_Model.get_params())"
   ]
  },
  {
   "cell_type": "code",
   "execution_count": 28,
   "metadata": {
    "execution": {
     "iopub.execute_input": "2020-10-06T15:40:42.135648Z",
     "iopub.status.busy": "2020-10-06T15:40:42.134207Z",
     "iopub.status.idle": "2020-10-06T15:40:42.141659Z",
     "shell.execute_reply": "2020-10-06T15:40:42.140734Z"
    },
    "papermill": {
     "duration": 0.070832,
     "end_time": "2020-10-06T15:40:42.141842",
     "exception": false,
     "start_time": "2020-10-06T15:40:42.071010",
     "status": "completed"
    },
    "tags": []
   },
   "outputs": [
    {
     "name": "stdout",
     "output_type": "stream",
     "text": [
      "{'bootstrap': [True, False],\n",
      " 'max_depth': [10, 20, 30, 40, 50, 60, 70, 80, 90, 100, 110, None],\n",
      " 'max_features': ['auto', 'sqrt'],\n",
      " 'min_samples_leaf': [1, 2, 4],\n",
      " 'min_samples_split': [2, 5, 10, 20],\n",
      " 'n_estimators': [200,\n",
      "                  294,\n",
      "                  389,\n",
      "                  484,\n",
      "                  578,\n",
      "                  673,\n",
      "                  768,\n",
      "                  863,\n",
      "                  957,\n",
      "                  1052,\n",
      "                  1147,\n",
      "                  1242,\n",
      "                  1336,\n",
      "                  1431,\n",
      "                  1526,\n",
      "                  1621,\n",
      "                  1715,\n",
      "                  1810,\n",
      "                  1905,\n",
      "                  2000]}\n"
     ]
    }
   ],
   "source": [
    "from sklearn.model_selection import RandomizedSearchCV# Number of trees in random forest\n",
    "n_estimators = [int(x) for x in np.linspace(start = 200, stop = 2000, num = 20)]\n",
    "# Number of features to consider at every split\n",
    "max_features = ['auto', 'sqrt']\n",
    "# Maximum number of levels in tree\n",
    "max_depth = [int(x) for x in np.linspace(10, 110, num = 11)]\n",
    "max_depth.append(None)\n",
    "# Minimum number of samples required to split a node\n",
    "min_samples_split = [2, 5, 10, 20]\n",
    "# Minimum number of samples required at each leaf node\n",
    "min_samples_leaf = [1, 2, 4]\n",
    "# Method of selecting samples for training each tree\n",
    "bootstrap = [True, False]# Create the random grid\n",
    "random_grid = {'n_estimators': n_estimators,\n",
    "               'max_features': max_features,\n",
    "               'max_depth': max_depth,\n",
    "               'min_samples_split': min_samples_split,\n",
    "               'min_samples_leaf': min_samples_leaf,\n",
    "               'bootstrap': bootstrap}\n",
    "pprint(random_grid)"
   ]
  },
  {
   "cell_type": "code",
   "execution_count": 29,
   "metadata": {
    "execution": {
     "iopub.execute_input": "2020-10-06T15:40:42.260614Z",
     "iopub.status.busy": "2020-10-06T15:40:42.259850Z",
     "iopub.status.idle": "2020-10-06T15:43:40.835230Z",
     "shell.execute_reply": "2020-10-06T15:43:40.834477Z"
    },
    "papermill": {
     "duration": 178.636878,
     "end_time": "2020-10-06T15:43:40.835357",
     "exception": false,
     "start_time": "2020-10-06T15:40:42.198479",
     "status": "completed"
    },
    "tags": []
   },
   "outputs": [
    {
     "name": "stdout",
     "output_type": "stream",
     "text": [
      "Fitting 3 folds for each of 100 candidates, totalling 300 fits\n"
     ]
    },
    {
     "name": "stderr",
     "output_type": "stream",
     "text": [
      "[Parallel(n_jobs=-1)]: Using backend LokyBackend with 4 concurrent workers.\n",
      "[Parallel(n_jobs=-1)]: Done  33 tasks      | elapsed:   19.8s\n",
      "[Parallel(n_jobs=-1)]: Done 154 tasks      | elapsed:  1.7min\n",
      "[Parallel(n_jobs=-1)]: Done 300 out of 300 | elapsed:  2.9min finished\n"
     ]
    },
    {
     "data": {
      "text/plain": [
       "RandomizedSearchCV(cv=3,\n",
       "                   estimator=RandomForestClassifier(oob_score=True,\n",
       "                                                    random_state=42),\n",
       "                   n_iter=100, n_jobs=-1,\n",
       "                   param_distributions={'bootstrap': [True, False],\n",
       "                                        'max_depth': [10, 20, 30, 40, 50, 60,\n",
       "                                                      70, 80, 90, 100, 110,\n",
       "                                                      None],\n",
       "                                        'max_features': ['auto', 'sqrt'],\n",
       "                                        'min_samples_leaf': [1, 2, 4],\n",
       "                                        'min_samples_split': [2, 5, 10, 20],\n",
       "                                        'n_estimators': [200, 294, 389, 484,\n",
       "                                                         578, 673, 768, 863,\n",
       "                                                         957, 1052, 1147, 1242,\n",
       "                                                         1336, 1431, 1526, 1621,\n",
       "                                                         1715, 1810, 1905,\n",
       "                                                         2000]},\n",
       "                   random_state=42, verbose=2)"
      ]
     },
     "execution_count": 29,
     "metadata": {},
     "output_type": "execute_result"
    }
   ],
   "source": [
    "# Use the random grid to search for best hyperparameters\n",
    "# Random search of parameters, using 3 fold cross validation, \n",
    "# search across 100 different combinations, and use all available cores\n",
    "rf_random = RandomizedSearchCV(estimator = minor_Model, param_distributions = random_grid, n_iter = 100, cv = 3, verbose=2, random_state=42, n_jobs = -1)# Fit the random search model\n",
    "rf_random.fit(X[minor], Y)"
   ]
  },
  {
   "cell_type": "code",
   "execution_count": 30,
   "metadata": {
    "execution": {
     "iopub.execute_input": "2020-10-06T15:43:40.952985Z",
     "iopub.status.busy": "2020-10-06T15:43:40.952094Z",
     "iopub.status.idle": "2020-10-06T15:43:40.956771Z",
     "shell.execute_reply": "2020-10-06T15:43:40.956202Z"
    },
    "papermill": {
     "duration": 0.06586,
     "end_time": "2020-10-06T15:43:40.956891",
     "exception": false,
     "start_time": "2020-10-06T15:43:40.891031",
     "status": "completed"
    },
    "tags": []
   },
   "outputs": [
    {
     "data": {
      "text/plain": [
       "{'n_estimators': 768,\n",
       " 'min_samples_split': 5,\n",
       " 'min_samples_leaf': 2,\n",
       " 'max_features': 'auto',\n",
       " 'max_depth': 100,\n",
       " 'bootstrap': True}"
      ]
     },
     "execution_count": 30,
     "metadata": {},
     "output_type": "execute_result"
    }
   ],
   "source": [
    "rf_random.best_params_"
   ]
  },
  {
   "cell_type": "code",
   "execution_count": 31,
   "metadata": {
    "execution": {
     "iopub.execute_input": "2020-10-06T15:43:41.083922Z",
     "iopub.status.busy": "2020-10-06T15:43:41.083124Z",
     "iopub.status.idle": "2020-10-06T15:43:41.267202Z",
     "shell.execute_reply": "2020-10-06T15:43:41.266349Z"
    },
    "papermill": {
     "duration": 0.254063,
     "end_time": "2020-10-06T15:43:41.267388",
     "exception": false,
     "start_time": "2020-10-06T15:43:41.013325",
     "status": "completed"
    },
    "tags": []
   },
   "outputs": [
    {
     "name": "stdout",
     "output_type": "stream",
     "text": [
      "Model Performance\n",
      "Average Error: 0.1414 degrees.\n",
      "Accuracy = -inf%.\n",
      "Model Performance\n",
      "Average Error: 0.1448 degrees.\n",
      "Accuracy = -inf%.\n",
      "Improvement of nan%.\n"
     ]
    }
   ],
   "source": [
    "def evaluate(model, test_features, test_labels):\n",
    "    predictions = model.predict(test_features)\n",
    "    errors = abs(predictions - test_labels)\n",
    "    mape = 100 * np.mean(errors / test_labels)\n",
    "    accuracy = 100 - mape\n",
    "    print('Model Performance')\n",
    "    print('Average Error: {:0.4f} degrees.'.format(np.mean(errors)))\n",
    "    print('Accuracy = {:0.2f}%.'.format(accuracy))\n",
    "    \n",
    "    return accuracy\n",
    "\n",
    "\n",
    "base_accuracy = evaluate(minor_Model, X[minor], Y)\n",
    "best_random = rf_random.best_estimator_\n",
    "random_accuracy = evaluate(best_random, X[minor], Y)\n",
    "\n",
    "print('Improvement of {:0.2f}%.'.format( 100 * (random_accuracy - base_accuracy) / base_accuracy))"
   ]
  },
  {
   "cell_type": "code",
   "execution_count": 32,
   "metadata": {
    "execution": {
     "iopub.execute_input": "2020-10-06T15:43:41.405012Z",
     "iopub.status.busy": "2020-10-06T15:43:41.404183Z",
     "iopub.status.idle": "2020-10-06T15:43:43.655500Z",
     "shell.execute_reply": "2020-10-06T15:43:43.654747Z"
    },
    "papermill": {
     "duration": 2.326884,
     "end_time": "2020-10-06T15:43:43.655624",
     "exception": false,
     "start_time": "2020-10-06T15:43:41.328740",
     "status": "completed"
    },
    "tags": []
   },
   "outputs": [
    {
     "data": {
      "text/plain": [
       "RandomForestClassifier(min_samples_leaf=2, min_samples_split=5,\n",
       "                       n_estimators=768, oob_score=True, random_state=42)"
      ]
     },
     "execution_count": 32,
     "metadata": {},
     "output_type": "execute_result"
    }
   ],
   "source": [
    "rfc = RandomForestClassifier(random_state=42,oob_score=True,n_estimators= 768,min_samples_split =5,min_samples_leaf= 2,bootstrap= True)\n",
    "rfc.fit(X[minor], Y)"
   ]
  },
  {
   "cell_type": "code",
   "execution_count": 33,
   "metadata": {
    "ExecuteTime": {
     "end_time": "2018-06-17T05:42:56.575819Z",
     "start_time": "2018-06-17T05:42:56.513836Z"
    },
    "_cell_guid": "34237c64-6f75-4ea0-80ef-73c16bb30f58",
    "_uuid": "e64a7536-427e-46d6-9a43-6e797528d178",
    "execution": {
     "iopub.execute_input": "2020-10-06T15:43:43.785186Z",
     "iopub.status.busy": "2020-10-06T15:43:43.780242Z",
     "iopub.status.idle": "2020-10-06T15:43:44.184868Z",
     "shell.execute_reply": "2020-10-06T15:43:44.183983Z"
    },
    "papermill": {
     "duration": 0.470538,
     "end_time": "2020-10-06T15:43:44.184993",
     "exception": false,
     "start_time": "2020-10-06T15:43:43.714455",
     "status": "completed"
    },
    "tags": []
   },
   "outputs": [],
   "source": [
    "# submits\n",
    "X_Submit = df_test.drop(labels=['PassengerId'],axis=1)\n",
    "\n",
    "minor_pred = rfc.predict(X_Submit[minor])\n",
    "\n",
    "submit = pd.DataFrame({\"PassengerId\": df_test['PassengerId'],\n",
    "                      \"Survived\":minor_pred.astype(int)})\n",
    "submit.to_csv(\"submit_minor.csv\",index=False)"
   ]
  },
  {
   "cell_type": "code",
   "execution_count": null,
   "metadata": {
    "ExecuteTime": {
     "end_time": "2018-06-17T06:54:23.105882Z",
     "start_time": "2018-06-17T06:54:22.493231Z"
    },
    "_cell_guid": "16d3d31f-5d7c-481f-974a-9c71462b36c6",
    "_uuid": "62123c03-9b03-48b6-8194-8e445c675ef5",
    "papermill": {
     "duration": 0.058144,
     "end_time": "2020-10-06T15:43:44.301169",
     "exception": false,
     "start_time": "2020-10-06T15:43:44.243025",
     "status": "completed"
    },
    "tags": []
   },
   "outputs": [],
   "source": []
  }
 ],
 "metadata": {
  "kernelspec": {
   "display_name": "Python 3",
   "language": "python",
   "name": "python3"
  },
  "language_info": {
   "codemirror_mode": {
    "name": "ipython",
    "version": 3
   },
   "file_extension": ".py",
   "mimetype": "text/x-python",
   "name": "python",
   "nbconvert_exporter": "python",
   "pygments_lexer": "ipython3",
   "version": "3.7.6"
  },
  "papermill": {
   "duration": 355.926345,
   "end_time": "2020-10-06T15:43:44.478525",
   "environment_variables": {},
   "exception": null,
   "input_path": "__notebook__.ipynb",
   "output_path": "__notebook__.ipynb",
   "parameters": {},
   "start_time": "2020-10-06T15:37:48.552180",
   "version": "2.1.0"
  }
 },
 "nbformat": 4,
 "nbformat_minor": 4
}
